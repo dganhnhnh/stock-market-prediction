{
 "cells": [
  {
   "cell_type": "code",
   "execution_count": 47,
   "metadata": {},
   "outputs": [],
   "source": [
    "import numpy as np\n",
    "import pandas as pd\n",
    "from DataProcessing import Data"
   ]
  },
  {
   "cell_type": "markdown",
   "metadata": {},
   "source": [
    "# 1. Get Data "
   ]
  },
  {
   "cell_type": "markdown",
   "metadata": {},
   "source": [
    "## 1.1. Get Data from folder"
   ]
  },
  {
   "cell_type": "code",
   "execution_count": 48,
   "metadata": {},
   "outputs": [
    {
     "name": "stdout",
     "output_type": "stream",
     "text": [
      "S&P 500: ['AAPL', 'ORCL', 'GOOGL', 'AMZN', 'BK', 'LIFE', 'T', 'XOM']\n",
      " VN: ['VHM', 'CTR', 'FPT', 'MBB']\n"
     ]
    },
    {
     "data": {
      "text/plain": [
       "['AAPL',\n",
       " 'ORCL',\n",
       " 'GOOGL',\n",
       " 'AMZN',\n",
       " 'BK',\n",
       " 'LIFE',\n",
       " 'T',\n",
       " 'XOM',\n",
       " 'VHM',\n",
       " 'CTR',\n",
       " 'FPT',\n",
       " 'MBB']"
      ]
     },
     "execution_count": 48,
     "metadata": {},
     "output_type": "execute_result"
    }
   ],
   "source": [
    "d = Data()\n",
    "d.get_index_names()"
   ]
  },
  {
   "cell_type": "code",
   "execution_count": 49,
   "metadata": {},
   "outputs": [],
   "source": [
    "chosen_index = 'ORCL'"
   ]
  },
  {
   "cell_type": "code",
   "execution_count": 50,
   "metadata": {},
   "outputs": [
    {
     "name": "stdout",
     "output_type": "stream",
     "text": [
      "Processing ORCL.csv\n",
      "Saved ORCL data at data/processed/ORCL.csv\n"
     ]
    }
   ],
   "source": [
    "d.preprocess(chosen_index)"
   ]
  },
  {
   "cell_type": "code",
   "execution_count": 51,
   "metadata": {},
   "outputs": [],
   "source": [
    "df = d.get_data(chosen_index)"
   ]
  },
  {
   "cell_type": "code",
   "execution_count": 52,
   "metadata": {},
   "outputs": [
    {
     "data": {
      "text/plain": [
       "<bound method NDFrame.head of             Date        Open        High         Low       Close    Volume  \\\n",
       "0     2019-04-01   49.646237   50.355732   49.618592   50.291233  15191700   \n",
       "1     2019-04-02   50.134584   50.217512   49.646231   49.895016  10812100   \n",
       "2     2019-04-03   49.904233   50.116159   49.627807   49.812092  12853400   \n",
       "3     2019-04-04   49.627808   49.895021   49.213167   49.590950   9978800   \n",
       "4     2019-04-05   49.517238   49.931875   49.517238   49.692307  10016300   \n",
       "...          ...         ...         ...         ...         ...       ...   \n",
       "1240  2024-03-05  112.820000  113.199997  110.370003  110.940002   8242000   \n",
       "1241  2024-03-06  111.500000  113.050003  110.669998  112.269997   6706400   \n",
       "1242  2024-03-07  113.940002  114.800003  112.290001  114.540001   7670100   \n",
       "1243  2024-03-08  114.070000  114.330002  111.540001  112.419998   8304100   \n",
       "1244  2024-03-11  111.610001  114.750000  111.180000  114.129997  19797400   \n",
       "\n",
       "            RSI        MFI         EMA         SO        MACD  Next Day Price  \n",
       "0     60.645953  48.929325   49.156719  98.082201   49.069111       49.895016  \n",
       "1     56.389216  42.759702   49.255159  86.301211   49.030867       49.812092  \n",
       "2     55.865344  44.719640   49.329416  83.835581   49.050106       49.590950  \n",
       "3     55.034338  51.845073   49.364287  65.702342   49.054919       49.692307  \n",
       "4     52.821127  48.880394   49.408023  70.247807   49.108263       49.498806  \n",
       "...         ...        ...         ...        ...         ...             ...  \n",
       "1240  42.242353  54.748951  112.204610  53.958597  112.442918      112.269997  \n",
       "1241  44.595306  55.010320  112.213328  71.198975  112.498034      114.540001  \n",
       "1242  54.583345  62.413851  112.523551  96.863666  112.696024      112.419998  \n",
       "1243  52.795975  62.731536  112.509744  71.290656  112.263582      114.129997  \n",
       "1244  65.187188  74.566241  112.725778  91.917904  112.478415      126.910004  \n",
       "\n",
       "[1245 rows x 12 columns]>"
      ]
     },
     "execution_count": 52,
     "metadata": {},
     "output_type": "execute_result"
    }
   ],
   "source": [
    "df.head"
   ]
  },
  {
   "cell_type": "code",
   "execution_count": 53,
   "metadata": {},
   "outputs": [
    {
     "data": {
      "text/plain": [
       "Index(['Date', 'Open', 'High', 'Low', 'Close', 'Volume', 'RSI', 'MFI', 'EMA',\n",
       "       'SO', 'MACD', 'Next Day Price'],\n",
       "      dtype='object')"
      ]
     },
     "execution_count": 53,
     "metadata": {},
     "output_type": "execute_result"
    }
   ],
   "source": [
    "df.columns"
   ]
  },
  {
   "cell_type": "markdown",
   "metadata": {},
   "source": [
    "# 2. Train model"
   ]
  },
  {
   "cell_type": "code",
   "execution_count": 54,
   "metadata": {},
   "outputs": [],
   "source": [
    "from sklearn.ensemble import GradientBoostingRegressor\n",
    "from sklearn.model_selection import  train_test_split"
   ]
  },
  {
   "cell_type": "code",
   "execution_count": 55,
   "metadata": {},
   "outputs": [],
   "source": [
    "X = df[df.columns[1:10]].values\n",
    "Y = df[df.columns[10]].values"
   ]
  },
  {
   "cell_type": "markdown",
   "metadata": {},
   "source": [
    "## 2.1. Split data"
   ]
  },
  {
   "cell_type": "markdown",
   "metadata": {},
   "source": [
    "### 2.1.2. Unchronologically"
   ]
  },
  {
   "cell_type": "code",
   "execution_count": 56,
   "metadata": {},
   "outputs": [],
   "source": [
    "X_train,X_test,Y_train,Y_test = train_test_split(X,Y,test_size=0.3,random_state=37)"
   ]
  },
  {
   "cell_type": "markdown",
   "metadata": {},
   "source": [
    "### 2.1.2. Chronologically"
   ]
  },
  {
   "cell_type": "code",
   "execution_count": 57,
   "metadata": {},
   "outputs": [],
   "source": [
    "TRAIN_PERCENT = 0.7\n",
    "train_size = int(TRAIN_PERCENT*len(X))\n",
    "\n",
    "X_train = X[0:train_size]\n",
    "Y_train = Y[0:train_size]\n",
    "X_test = X[train_size:len(X)]\n",
    "Y_test = Y[train_size:len(Y)]"
   ]
  },
  {
   "cell_type": "markdown",
   "metadata": {},
   "source": [
    "## 2.2. Train model"
   ]
  },
  {
   "cell_type": "code",
   "execution_count": 58,
   "metadata": {},
   "outputs": [
    {
     "name": "stdout",
     "output_type": "stream",
     "text": [
      "X_train: (996, 9), Y_train: (996,), X_test: (249, 9), Y_test: (249,)\n",
      "Fitting 3 folds for each of 27 candidates, totalling 81 fits\n",
      "Best parameters found:  {'learning_rate': 0.2, 'max_depth': 1, 'n_estimators': 100, 'subsample': 0.87}\n"
     ]
    }
   ],
   "source": [
    "from helper import prepare_data\n",
    "from sklearn.model_selection import GridSearchCV\n",
    "\n",
    "\n",
    "def train_model(index):\n",
    "    X_train, Y_train, X_test, Y_test = prepare_data(index)\n",
    "\n",
    "    model = GradientBoostingRegressor()\n",
    "\n",
    "    param_grid = {\n",
    "        'n_estimators': [100],\n",
    "        'learning_rate': [0.1, 0.2, 0.05],\n",
    "        'subsample': [0.86, 0.85,  0.87],\n",
    "        #'max_depth': [1, 2, 3]\n",
    "    }\n",
    "\n",
    "    model = GridSearchCV(model, param_grid, cv = 3, n_jobs = -1, verbose = 2)\n",
    "    model.fit(X_train,Y_train)\n",
    "    print(\"Best parameters found: \", model.best_params_)\n",
    "    model.score(X_test,Y_test)\n",
    "    return model\n",
    "\n",
    "model = train_model(chosen_index)"
   ]
  },
  {
   "cell_type": "markdown",
   "metadata": {},
   "source": [
    "## Plot Result"
   ]
  },
  {
   "cell_type": "code",
   "execution_count": 59,
   "metadata": {},
   "outputs": [],
   "source": [
    "import matplotlib.pyplot as plt"
   ]
  },
  {
   "cell_type": "code",
   "execution_count": 60,
   "metadata": {},
   "outputs": [],
   "source": [
    "Y_predict = model.predict(X_test)"
   ]
  },
  {
   "cell_type": "code",
   "execution_count": 61,
   "metadata": {},
   "outputs": [
    {
     "data": {
      "image/png": "[encoded data removed]",
      "text/plain": [
       "<Figure size 640x480 with 1 Axes>"
      ]
     },
     "metadata": {},
     "output_type": "display_data"
    }
   ],
   "source": [
    "plt.plot(Y_predict,color='red',label='Prediction')\n",
    "plt.plot(Y_test,color='blue',label='True value')\n",
    "plt.legend(loc='upper right')\n",
    "plt.title(f'{chosen_index} - GradientBoostingRegressor')\n",
    "plt.show()"
   ]
  },
  {
   "cell_type": "markdown",
   "metadata": {},
   "source": [
    "## Save results"
   ]
  },
  {
   "cell_type": "code",
   "execution_count": 62,
   "metadata": {},
   "outputs": [
    {
     "name": "stdout",
     "output_type": "stream",
     "text": [
      "X_train: (996, 9), Y_train: (996,), X_test: (249, 9), Y_test: (249,)\n",
      "X_train: (996, 9), Y_train: (996,), X_test: (249, 9), Y_test: (249,)\n",
      "Fitting 3 folds for each of 27 candidates, totalling 81 fits\n",
      "Best parameters found:  {'learning_rate': 0.2, 'max_depth': 1, 'n_estimators': 100, 'subsample': 0.85}\n",
      "Calculating loss for model GridSearchCV(cv=3, estimator=GradientBoostingRegressor(), n_jobs=-1,\n",
      "             param_grid={'learning_rate': [0.1, 0.2, 0.05],\n",
      "                         'max_depth': [1, 2, 3], 'n_estimators': [100],\n",
      "                         'subsample': [0.86, 0.85, 0.87]},\n",
      "             verbose=2)...\n",
      "Mean Squared Error: 177.6120481738922\n",
      "R-squared: -0.4192392072554523\n",
      "Root Mean Squared Error: 13.327117024093853\n",
      "Mean Absolute Percentage Error: 0.06052099248263677\n",
      "Mean Absolute Error: 11.178446885171343\n",
      "X_train: (996, 9), Y_train: (996,), X_test: (249, 9), Y_test: (249,)\n",
      "X_train: (996, 9), Y_train: (996,), X_test: (249, 9), Y_test: (249,)\n",
      "Fitting 3 folds for each of 27 candidates, totalling 81 fits\n",
      "Best parameters found:  {'learning_rate': 0.2, 'max_depth': 1, 'n_estimators': 100, 'subsample': 0.85}\n",
      "Calculating loss for model GridSearchCV(cv=3, estimator=GradientBoostingRegressor(), n_jobs=-1,\n",
      "             param_grid={'learning_rate': [0.1, 0.2, 0.05],\n",
      "                         'max_depth': [1, 2, 3], 'n_estimators': [100],\n",
      "                         'subsample': [0.86, 0.85, 0.87]},\n",
      "             verbose=2)...\n",
      "Mean Squared Error: 319.4520944440244\n",
      "R-squared: -2.664048877086337\n",
      "Root Mean Squared Error: 17.8732228331665\n",
      "Mean Absolute Percentage Error: 0.14344730252313967\n",
      "Mean Absolute Error: 15.937772162279947\n",
      "X_train: (996, 9), Y_train: (996,), X_test: (249, 9), Y_test: (249,)\n",
      "X_train: (996, 9), Y_train: (996,), X_test: (249, 9), Y_test: (249,)\n",
      "Fitting 3 folds for each of 27 candidates, totalling 81 fits\n",
      "Best parameters found:  {'learning_rate': 0.2, 'max_depth': 2, 'n_estimators': 100, 'subsample': 0.85}\n",
      "Calculating loss for model GridSearchCV(cv=3, estimator=GradientBoostingRegressor(), n_jobs=-1,\n",
      "             param_grid={'learning_rate': [0.1, 0.2, 0.05],\n",
      "                         'max_depth': [1, 2, 3], 'n_estimators': [100],\n",
      "                         'subsample': [0.86, 0.85, 0.87]},\n",
      "             verbose=2)...\n",
      "Mean Squared Error: 3.6129064313007033\n",
      "R-squared: 0.9811213961120856\n",
      "Root Mean Squared Error: 1.9007646964579028\n",
      "Mean Absolute Percentage Error: 0.012631403493834376\n",
      "Mean Absolute Error: 1.5434734026734918\n",
      "X_train: (996, 9), Y_train: (996,), X_test: (249, 9), Y_test: (249,)\n",
      "X_train: (996, 9), Y_train: (996,), X_test: (249, 9), Y_test: (249,)\n",
      "Fitting 3 folds for each of 27 candidates, totalling 81 fits\n",
      "Best parameters found:  {'learning_rate': 0.2, 'max_depth': 2, 'n_estimators': 100, 'subsample': 0.86}\n",
      "Calculating loss for model GridSearchCV(cv=3, estimator=GradientBoostingRegressor(), n_jobs=-1,\n",
      "             param_grid={'learning_rate': [0.1, 0.2, 0.05],\n",
      "                         'max_depth': [1, 2, 3], 'n_estimators': [100],\n",
      "                         'subsample': [0.86, 0.85, 0.87]},\n",
      "             verbose=2)...\n",
      "Mean Squared Error: 4.503077352352403\n",
      "R-squared: 0.9883468479993612\n",
      "Root Mean Squared Error: 2.1220455585006657\n",
      "Mean Absolute Percentage Error: 0.012886253851002113\n",
      "Mean Absolute Error: 1.6830955168962942\n",
      "X_train: (996, 9), Y_train: (996,), X_test: (249, 9), Y_test: (249,)\n",
      "X_train: (996, 9), Y_train: (996,), X_test: (249, 9), Y_test: (249,)\n",
      "Fitting 3 folds for each of 27 candidates, totalling 81 fits\n",
      "Best parameters found:  {'learning_rate': 0.2, 'max_depth': 2, 'n_estimators': 100, 'subsample': 0.87}\n",
      "Calculating loss for model GridSearchCV(cv=3, estimator=GradientBoostingRegressor(), n_jobs=-1,\n",
      "             param_grid={'learning_rate': [0.1, 0.2, 0.05],\n",
      "                         'max_depth': [1, 2, 3], 'n_estimators': [100],\n",
      "                         'subsample': [0.86, 0.85, 0.87]},\n",
      "             verbose=2)...\n",
      "Mean Squared Error: 0.3899966444448467\n",
      "R-squared: 0.9800843195287114\n",
      "Root Mean Squared Error: 0.6244971132398025\n",
      "Mean Absolute Percentage Error: 0.010203467200400091\n",
      "Mean Absolute Error: 0.4570757772642824\n",
      "X_train: (996, 9), Y_train: (996,), X_test: (249, 9), Y_test: (249,)\n",
      "X_train: (996, 9), Y_train: (996,), X_test: (249, 9), Y_test: (249,)\n",
      "Fitting 3 folds for each of 27 candidates, totalling 81 fits\n",
      "Best parameters found:  {'learning_rate': 0.1, 'max_depth': 2, 'n_estimators': 100, 'subsample': 0.87}\n",
      "Calculating loss for model GridSearchCV(cv=3, estimator=GradientBoostingRegressor(), n_jobs=-1,\n",
      "             param_grid={'learning_rate': [0.1, 0.2, 0.05],\n",
      "                         'max_depth': [1, 2, 3], 'n_estimators': [100],\n",
      "                         'subsample': [0.86, 0.85, 0.87]},\n",
      "             verbose=2)...\n",
      "Mean Squared Error: 0.3014088033839382\n",
      "R-squared: -1.4529134377532884\n",
      "Root Mean Squared Error: 0.549007106861048\n",
      "Mean Absolute Percentage Error: 0.29798088489383795\n",
      "Mean Absolute Error: 0.4419505030793455\n",
      "X_train: (996, 9), Y_train: (996,), X_test: (249, 9), Y_test: (249,)\n",
      "X_train: (996, 9), Y_train: (996,), X_test: (249, 9), Y_test: (249,)\n",
      "Fitting 3 folds for each of 27 candidates, totalling 81 fits\n",
      "Best parameters found:  {'learning_rate': 0.2, 'max_depth': 3, 'n_estimators': 100, 'subsample': 0.86}\n",
      "Calculating loss for model GridSearchCV(cv=3, estimator=GradientBoostingRegressor(), n_jobs=-1,\n",
      "             param_grid={'learning_rate': [0.1, 0.2, 0.05],\n",
      "                         'max_depth': [1, 2, 3], 'n_estimators': [100],\n",
      "                         'subsample': [0.86, 0.85, 0.87]},\n",
      "             verbose=2)...\n",
      "Mean Squared Error: 0.08221022409987641\n",
      "R-squared: 0.9523390390681057\n",
      "Root Mean Squared Error: 0.28672325350392563\n",
      "Mean Absolute Percentage Error: 0.01523693820127229\n",
      "Mean Absolute Error: 0.22961446895785245\n",
      "X_train: (996, 9), Y_train: (996,), X_test: (249, 9), Y_test: (249,)\n",
      "X_train: (996, 9), Y_train: (996,), X_test: (249, 9), Y_test: (249,)\n",
      "Fitting 3 folds for each of 27 candidates, totalling 81 fits\n",
      "Best parameters found:  {'learning_rate': 0.2, 'max_depth': 2, 'n_estimators': 100, 'subsample': 0.86}\n",
      "Calculating loss for model GridSearchCV(cv=3, estimator=GradientBoostingRegressor(), n_jobs=-1,\n",
      "             param_grid={'learning_rate': [0.1, 0.2, 0.05],\n",
      "                         'max_depth': [1, 2, 3], 'n_estimators': [100],\n",
      "                         'subsample': [0.86, 0.85, 0.87]},\n",
      "             verbose=2)...\n",
      "Mean Squared Error: 3.302070083155474\n",
      "R-squared: 0.7635887332046828\n",
      "Root Mean Squared Error: 1.8171598947686123\n",
      "Mean Absolute Percentage Error: 0.01376036228198496\n",
      "Mean Absolute Error: 1.4525593620310437\n"
     ]
    }
   ],
   "source": [
    "import time\n",
    "from helper import calculate_loss, prepare_data\n",
    "\n",
    "mae = []\n",
    "mse = []\n",
    "r2 = []\n",
    "rmse = []\n",
    "mape = []\n",
    "avg_runtime = 0\n",
    "\n",
    "list_tickers = d.get_sp500_tickers()\n",
    "# track run time\n",
    "\n",
    "for ticker in list_tickers:\n",
    "    start = time.time()\n",
    "    X_train, Y_train, X_test, Y_test = prepare_data(ticker)\n",
    "\n",
    "    # call model\n",
    "    model = train_model(ticker)\n",
    "\n",
    "    # predictions = model.predict(X_test)\n",
    "    mse_, r2_, rmse_, mape_, mae_ = calculate_loss(model, X_test, Y_test)\n",
    "    mae.append(mae_)\n",
    "    mse.append(mse_)\n",
    "    r2.append(r2_)\n",
    "    rmse.append(rmse_)\n",
    "    mape.append(mape_)\n",
    "\n",
    "    end = time.time()\n",
    "    avg_runtime += (end-start)\n",
    "\n",
    "mae = np.mean(list(mae))\n",
    "mse = np.mean(list(mse))\n",
    "r2 = np.mean(list(r2))\n",
    "rmse = np.mean(list(rmse))\n",
    "mape = np.mean(list(mape))\n",
    "avg_runtime = avg_runtime/len(list_tickers)\n",
    "\n",
    "with open('output/evaluation.csv', 'a') as f:\n",
    "    f.write(f'Gradient Boosting,{mae},{mse},{r2},{rmse},{mape},{avg_runtime}\\n')"
   ]
  }
 ],
 "metadata": {
  "kernelspec": {
   "display_name": "Python 3",
   "language": "python",
   "name": "python3"
  },
  "language_info": {
   "codemirror_mode": {
    "name": "ipython",
    "version": 3
   },
   "file_extension": ".py",
   "mimetype": "text/x-python",
   "name": "python",
   "nbconvert_exporter": "python",
   "pygments_lexer": "ipython3",
   "version": "3.10.11"
  }
 },
 "nbformat": 4,
 "nbformat_minor": 2
}
