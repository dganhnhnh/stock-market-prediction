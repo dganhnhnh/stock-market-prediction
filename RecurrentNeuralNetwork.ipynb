{
 "cells": [
  {
   "cell_type": "markdown",
   "metadata": {},
   "source": [
    "# Not working! "
   ]
  },
  {
   "cell_type": "code",
   "execution_count": 1,
   "metadata": {},
   "outputs": [],
   "source": [
    "import torch\n",
    "import torch.nn as nn\n",
    "import numpy as np\n",
    "import pandas as pd\n",
    "from torch.utils.data import Dataset, DataLoader\n",
    "from DataProcessing import Data"
   ]
  },
  {
   "cell_type": "code",
   "execution_count": 2,
   "metadata": {},
   "outputs": [
    {
     "name": "stdout",
     "output_type": "stream",
     "text": [
      "S&P 500: ['AAPL', 'ORCL', 'GOOGL', 'AMZN', 'BK', 'LIFE', 'T', 'XOM']\n",
      " VN: ['VHM', 'CTR', 'FPT', 'MBB']\n"
     ]
    },
    {
     "data": {
      "text/plain": [
       "['AAPL',\n",
       " 'ORCL',\n",
       " 'GOOGL',\n",
       " 'AMZN',\n",
       " 'BK',\n",
       " 'LIFE',\n",
       " 'T',\n",
       " 'XOM',\n",
       " 'VHM',\n",
       " 'CTR',\n",
       " 'FPT',\n",
       " 'MBB']"
      ]
     },
     "execution_count": 2,
     "metadata": {},
     "output_type": "execute_result"
    }
   ],
   "source": [
    "d = Data()\n",
    "d.get_index_names()"
   ]
  },
  {
   "cell_type": "code",
   "execution_count": 3,
   "metadata": {},
   "outputs": [],
   "source": [
    "chosen_index = 'AAPL'"
   ]
  },
  {
   "cell_type": "code",
   "execution_count": 4,
   "metadata": {},
   "outputs": [
    {
     "name": "stdout",
     "output_type": "stream",
     "text": [
      "Processing AAPL.csv\n",
      "Saved AAPL data at data/processed/AAPL.csv\n"
     ]
    }
   ],
   "source": [
    "d.preprocess(chosen_index)"
   ]
  },
  {
   "cell_type": "code",
   "execution_count": 5,
   "metadata": {},
   "outputs": [],
   "source": [
    "df = d.get_data(chosen_index)"
   ]
  },
  {
   "cell_type": "code",
   "execution_count": 6,
   "metadata": {},
   "outputs": [
    {
     "data": {
      "text/plain": [
       "Index(['Date', 'Close', 'Volume', 'RSI', 'MFI', 'EMA', 'SO', 'MACD',\n",
       "       'Next Day Price'],\n",
       "      dtype='object')"
      ]
     },
     "execution_count": 6,
     "metadata": {},
     "output_type": "execute_result"
    }
   ],
   "source": [
    "df.columns"
   ]
  },
  {
   "cell_type": "code",
   "execution_count": 7,
   "metadata": {},
   "outputs": [
    {
     "data": {
      "text/html": [
       "<div>\n",
       "<style scoped>\n",
       "    .dataframe tbody tr th:only-of-type {\n",
       "        vertical-align: middle;\n",
       "    }\n",
       "\n",
       "    .dataframe tbody tr th {\n",
       "        vertical-align: top;\n",
       "    }\n",
       "\n",
       "    .dataframe thead th {\n",
       "        text-align: right;\n",
       "    }\n",
       "</style>\n",
       "<table border=\"1\" class=\"dataframe\">\n",
       "  <thead>\n",
       "    <tr style=\"text-align: right;\">\n",
       "      <th></th>\n",
       "      <th>Close</th>\n",
       "      <th>RSI</th>\n",
       "      <th>MFI</th>\n",
       "      <th>EMA</th>\n",
       "      <th>SO</th>\n",
       "      <th>MACD</th>\n",
       "      <th>Next Day Price</th>\n",
       "    </tr>\n",
       "  </thead>\n",
       "  <tbody>\n",
       "    <tr>\n",
       "      <th>0</th>\n",
       "      <td>46.026634</td>\n",
       "      <td>67.268429</td>\n",
       "      <td>64.270909</td>\n",
       "      <td>45.237070</td>\n",
       "      <td>61.538472</td>\n",
       "      <td>44.632211</td>\n",
       "      <td>46.695705</td>\n",
       "    </tr>\n",
       "    <tr>\n",
       "      <th>1</th>\n",
       "      <td>46.695705</td>\n",
       "      <td>69.300647</td>\n",
       "      <td>63.761773</td>\n",
       "      <td>45.431555</td>\n",
       "      <td>75.743466</td>\n",
       "      <td>44.842325</td>\n",
       "      <td>47.015808</td>\n",
       "    </tr>\n",
       "    <tr>\n",
       "      <th>2</th>\n",
       "      <td>47.015808</td>\n",
       "      <td>68.621752</td>\n",
       "      <td>63.849196</td>\n",
       "      <td>45.642788</td>\n",
       "      <td>83.225880</td>\n",
       "      <td>45.002530</td>\n",
       "      <td>47.097633</td>\n",
       "    </tr>\n",
       "    <tr>\n",
       "      <th>3</th>\n",
       "      <td>47.097633</td>\n",
       "      <td>66.415042</td>\n",
       "      <td>62.339650</td>\n",
       "      <td>45.836768</td>\n",
       "      <td>84.744426</td>\n",
       "      <td>45.129992</td>\n",
       "      <td>47.412914</td>\n",
       "    </tr>\n",
       "    <tr>\n",
       "      <th>4</th>\n",
       "      <td>47.412914</td>\n",
       "      <td>65.721236</td>\n",
       "      <td>61.764142</td>\n",
       "      <td>46.046921</td>\n",
       "      <td>94.736718</td>\n",
       "      <td>45.293776</td>\n",
       "      <td>48.159019</td>\n",
       "    </tr>\n",
       "    <tr>\n",
       "      <th>...</th>\n",
       "      <td>...</td>\n",
       "      <td>...</td>\n",
       "      <td>...</td>\n",
       "      <td>...</td>\n",
       "      <td>...</td>\n",
       "      <td>...</td>\n",
       "      <td>...</td>\n",
       "    </tr>\n",
       "    <tr>\n",
       "      <th>1240</th>\n",
       "      <td>170.119995</td>\n",
       "      <td>18.228278</td>\n",
       "      <td>16.817383</td>\n",
       "      <td>180.247559</td>\n",
       "      <td>3.142677</td>\n",
       "      <td>182.756270</td>\n",
       "      <td>169.119995</td>\n",
       "    </tr>\n",
       "    <tr>\n",
       "      <th>1241</th>\n",
       "      <td>169.119995</td>\n",
       "      <td>18.143279</td>\n",
       "      <td>16.653482</td>\n",
       "      <td>178.763884</td>\n",
       "      <td>2.689501</td>\n",
       "      <td>182.207957</td>\n",
       "      <td>169.000000</td>\n",
       "    </tr>\n",
       "    <tr>\n",
       "      <th>1242</th>\n",
       "      <td>169.000000</td>\n",
       "      <td>18.274975</td>\n",
       "      <td>16.636314</td>\n",
       "      <td>177.462033</td>\n",
       "      <td>3.081540</td>\n",
       "      <td>181.714985</td>\n",
       "      <td>170.729996</td>\n",
       "    </tr>\n",
       "    <tr>\n",
       "      <th>1243</th>\n",
       "      <td>170.729996</td>\n",
       "      <td>25.466088</td>\n",
       "      <td>24.061516</td>\n",
       "      <td>176.564428</td>\n",
       "      <td>13.534694</td>\n",
       "      <td>181.438270</td>\n",
       "      <td>172.750000</td>\n",
       "    </tr>\n",
       "    <tr>\n",
       "      <th>1244</th>\n",
       "      <td>172.750000</td>\n",
       "      <td>32.287898</td>\n",
       "      <td>30.180780</td>\n",
       "      <td>176.055837</td>\n",
       "      <td>25.740167</td>\n",
       "      <td>181.157929</td>\n",
       "      <td>172.514999</td>\n",
       "    </tr>\n",
       "  </tbody>\n",
       "</table>\n",
       "<p>1245 rows × 7 columns</p>\n",
       "</div>"
      ],
      "text/plain": [
       "           Close        RSI        MFI         EMA         SO        MACD   \n",
       "0      46.026634  67.268429  64.270909   45.237070  61.538472   44.632211  \\\n",
       "1      46.695705  69.300647  63.761773   45.431555  75.743466   44.842325   \n",
       "2      47.015808  68.621752  63.849196   45.642788  83.225880   45.002530   \n",
       "3      47.097633  66.415042  62.339650   45.836768  84.744426   45.129992   \n",
       "4      47.412914  65.721236  61.764142   46.046921  94.736718   45.293776   \n",
       "...          ...        ...        ...         ...        ...         ...   \n",
       "1240  170.119995  18.228278  16.817383  180.247559   3.142677  182.756270   \n",
       "1241  169.119995  18.143279  16.653482  178.763884   2.689501  182.207957   \n",
       "1242  169.000000  18.274975  16.636314  177.462033   3.081540  181.714985   \n",
       "1243  170.729996  25.466088  24.061516  176.564428  13.534694  181.438270   \n",
       "1244  172.750000  32.287898  30.180780  176.055837  25.740167  181.157929   \n",
       "\n",
       "      Next Day Price  \n",
       "0          46.695705  \n",
       "1          47.015808  \n",
       "2          47.097633  \n",
       "3          47.412914  \n",
       "4          48.159019  \n",
       "...              ...  \n",
       "1240      169.119995  \n",
       "1241      169.000000  \n",
       "1242      170.729996  \n",
       "1243      172.750000  \n",
       "1244      172.514999  \n",
       "\n",
       "[1245 rows x 7 columns]"
      ]
     },
     "execution_count": 7,
     "metadata": {},
     "output_type": "execute_result"
    }
   ],
   "source": [
    "df = df.drop(['Date','Volume'],axis=1)\n",
    "df"
   ]
  },
  {
   "cell_type": "code",
   "execution_count": 8,
   "metadata": {},
   "outputs": [],
   "source": [
    "class TimeSeriesDataset(Dataset):\n",
    "    def __init__(self,x,y):\n",
    "        self.x = x\n",
    "        self.y= y\n",
    "\n",
    "    def __len__(self):\n",
    "        return len(self.x)\n",
    "    \n",
    "    def __getitem__(self,i):\n",
    "        return self.x[i],self.y[i]"
   ]
  },
  {
   "cell_type": "code",
   "execution_count": 9,
   "metadata": {},
   "outputs": [],
   "source": [
    "input_dim = 6\n",
    "sequence_length = 14\n",
    "hidden_size = 64\n",
    "num_layers = 1\n",
    "learning_rate = 0.001\n",
    "batch_size = 8\n",
    "num_epochs = 100"
   ]
  },
  {
   "cell_type": "code",
   "execution_count": 10,
   "metadata": {},
   "outputs": [],
   "source": [
    "X = df[df.columns[0:6]].values\n",
    "Y = df[df.columns[6]].values"
   ]
  },
  {
   "cell_type": "code",
   "execution_count": 11,
   "metadata": {},
   "outputs": [],
   "source": [
    "TRAIN_PERCENT = 0.7\n",
    "train_size = int(TRAIN_PERCENT*len(X))\n",
    "\n",
    "X_train = torch.FloatTensor(X[0:train_size])\n",
    "Y_train = torch.FloatTensor(Y[0:train_size])\n",
    "X_test = torch.FloatTensor(X[train_size:len(X)])\n",
    "Y_test = torch.FloatTensor(Y[train_size:len(Y)])\n"
   ]
  },
  {
   "cell_type": "code",
   "execution_count": 12,
   "metadata": {},
   "outputs": [],
   "source": [
    "time_series_dataset = TimeSeriesDataset(X_train,Y_train)\n",
    "train_loader = DataLoader(time_series_dataset,batch_size=1,shuffle=False)"
   ]
  },
  {
   "cell_type": "code",
   "execution_count": 13,
   "metadata": {},
   "outputs": [
    {
     "data": {
      "text/plain": [
       "(tensor([[46.0266, 67.2684, 64.2709, 45.2371, 61.5385, 44.6322],\n",
       "         [46.6957, 69.3006, 63.7618, 45.4316, 75.7435, 44.8423],\n",
       "         [47.0158, 68.6217, 63.8492, 45.6428, 83.2259, 45.0025]]),\n",
       " tensor([46.6957, 47.0158, 47.0976]))"
      ]
     },
     "execution_count": 13,
     "metadata": {},
     "output_type": "execute_result"
    }
   ],
   "source": [
    "time_series_dataset[0:3]"
   ]
  },
  {
   "cell_type": "code",
   "execution_count": 14,
   "metadata": {},
   "outputs": [
    {
     "name": "stdout",
     "output_type": "stream",
     "text": [
      "torch.Size([1, 6]) torch.Size([1])\n"
     ]
    }
   ],
   "source": [
    "for _,batch in enumerate(train_loader):\n",
    "    x_batch, y_batch = batch[0], batch[1]\n",
    "    print(x_batch.shape,y_batch.shape)\n",
    "    break"
   ]
  },
  {
   "cell_type": "code",
   "execution_count": 20,
   "metadata": {},
   "outputs": [],
   "source": [
    "class RecurrentNeuralNetwork(nn.Module):\n",
    "    def __init__(self, input_dim, hidden_size, num_layers):\n",
    "        super(RecurrentNeuralNetwork,self).__init__()\n",
    "        self.input_dim = input_dim\n",
    "        self.hidden_size = hidden_size\n",
    "        self.num_layers = num_layers\n",
    "        self.rnn = nn.RNN(input_dim,hidden_size,num_layers,True)\n",
    "        self.fc = nn.Linear(hidden_size,1)\n",
    "\n",
    "    def forward(self, x,h_t):\n",
    "        # h_0 = torch.zeros(self.num_layers,self.hidden_size)\n",
    "        return self.rnn(x,h_t)"
   ]
  },
  {
   "cell_type": "code",
   "execution_count": 16,
   "metadata": {},
   "outputs": [],
   "source": [
    "import torch.optim as optim\n",
    "import torch.nn.functional as func\n",
    "from torch.utils.data import DataLoader "
   ]
  },
  {
   "cell_type": "code",
   "execution_count": 21,
   "metadata": {},
   "outputs": [],
   "source": [
    "torch.manual_seed(39)\n",
    "model = RecurrentNeuralNetwork(input_dim,hidden_size,num_layers)\n",
    "criterion = nn.MSELoss()\n",
    "optimizer = optim.Adam(model.parameters(),lr=learning_rate)\n"
   ]
  },
  {
   "cell_type": "code",
   "execution_count": 18,
   "metadata": {},
   "outputs": [
    {
     "data": {
      "text/plain": [
       "RecurrentNeuralNetwork(\n",
       "  (rnn): RNN(6, 64)\n",
       "  (fc): Linear(in_features=64, out_features=1, bias=True)\n",
       ")"
      ]
     },
     "execution_count": 18,
     "metadata": {},
     "output_type": "execute_result"
    }
   ],
   "source": [
    "model"
   ]
  },
  {
   "cell_type": "code",
   "execution_count": 24,
   "metadata": {},
   "outputs": [
    {
     "name": "stdout",
     "output_type": "stream",
     "text": [
      "epoch: 0\n"
     ]
    },
    {
     "name": "stderr",
     "output_type": "stream",
     "text": [
      "/home/nguyen/.local/lib/python3.10/site-packages/torch/nn/modules/loss.py:535: UserWarning: Using a target size (torch.Size([1])) that is different to the input size (torch.Size([1, 64])). This will likely lead to incorrect results due to broadcasting. Please ensure they have the same size.\n",
      "  return F.mse_loss(input, target, reduction=self.reduction)\n"
     ]
    },
    {
     "name": "stdout",
     "output_type": "stream",
     "text": [
      "epoch: 1\n",
      "epoch: 2\n",
      "epoch: 3\n",
      "epoch: 4\n",
      "epoch: 5\n",
      "epoch: 6\n",
      "epoch: 7\n",
      "epoch: 8\n",
      "epoch: 9\n",
      "epoch: 10\n",
      "epoch: 11\n",
      "epoch: 12\n",
      "epoch: 13\n",
      "epoch: 14\n",
      "epoch: 15\n",
      "epoch: 16\n",
      "epoch: 17\n",
      "epoch: 18\n",
      "epoch: 19\n",
      "epoch: 20\n",
      "epoch: 21\n",
      "epoch: 22\n",
      "epoch: 23\n",
      "epoch: 24\n",
      "epoch: 25\n",
      "epoch: 26\n",
      "epoch: 27\n",
      "epoch: 28\n",
      "epoch: 29\n",
      "epoch: 30\n",
      "epoch: 31\n",
      "epoch: 32\n",
      "epoch: 33\n",
      "epoch: 34\n",
      "epoch: 35\n",
      "epoch: 36\n",
      "epoch: 37\n",
      "epoch: 38\n",
      "epoch: 39\n",
      "epoch: 40\n",
      "epoch: 41\n",
      "epoch: 42\n",
      "epoch: 43\n",
      "epoch: 44\n",
      "epoch: 45\n",
      "epoch: 46\n",
      "epoch: 47\n",
      "epoch: 48\n",
      "epoch: 49\n"
     ]
    }
   ],
   "source": [
    "losses = []\n",
    "y_pred = []\n",
    "for i in range(50): \n",
    "    model.train(True)\n",
    "    print(f'epoch: {i}')\n",
    "    running_loss = 0\n",
    "\n",
    "    for batch_index, batch in enumerate(train_loader):\n",
    "        x_batch,y_batch = batch[0],batch[1]\n",
    "        output = model.forward(x_batch)\n",
    "        y_pred.append(output)\n",
    "        loss = criterion(output, y_batch)\n",
    "        running_loss+=loss.detach().numpy()\n",
    "        # losses.append(loss.detach().numpy())\n",
    "        optimizer.zero_grad()\n",
    "        loss.backward()\n",
    "\n",
    "        optimizer.step()\n",
    "    losses.append(running_loss)"
   ]
  },
  {
   "cell_type": "code",
   "execution_count": 25,
   "metadata": {},
   "outputs": [
    {
     "data": {
      "text/plain": [
       "[<matplotlib.lines.Line2D at 0x7421c0dedf90>]"
      ]
     },
     "execution_count": 25,
     "metadata": {},
     "output_type": "execute_result"
    },
    {
     "data": {
      "image/png": "[encoded data removed]",
      "text/plain": [
       "<Figure size 640x480 with 1 Axes>"
      ]
     },
     "metadata": {},
     "output_type": "display_data"
    }
   ],
   "source": [
    "import matplotlib.pyplot as plt\n",
    "plt.plot(losses)"
   ]
  },
  {
   "cell_type": "code",
   "execution_count": 26,
   "metadata": {},
   "outputs": [
    {
     "data": {
      "text/plain": [
       "array([[ 1.        ,  0.999993  ,  1.        ,  1.        ,  0.9999871 ,\n",
       "         1.        ,  0.9999998 ,  1.        , -1.        ,  1.        ,\n",
       "         1.        ,  1.        ,  1.        , -1.        ,  1.        ,\n",
       "         0.99999994,  0.99999934,  1.        ,  1.        ,  1.        ,\n",
       "         1.        ,  0.99999964,  1.        ,  1.        ,  0.9999956 ,\n",
       "         1.        ,  1.        ,  1.        ,  0.9999991 ,  1.        ,\n",
       "         1.        ,  1.        ,  1.        ,  1.        ,  1.        ,\n",
       "         1.        ,  1.        ,  1.        ,  1.        ,  1.        ,\n",
       "         1.        ,  1.        ,  1.        ,  1.        ,  1.        ,\n",
       "         1.        ,  1.        ,  1.        ,  0.9999999 , -1.        ,\n",
       "         0.99999994,  1.        ,  1.        ,  0.99999833,  1.        ,\n",
       "         1.        ,  0.99999994,  1.        ,  0.9999994 ,  1.        ,\n",
       "         1.        ,  1.        ,  0.99999994,  1.        ]],\n",
       "      dtype=float32)"
      ]
     },
     "execution_count": 26,
     "metadata": {},
     "output_type": "execute_result"
    }
   ],
   "source": [
    "y_pred[0].detach().numpy()"
   ]
  },
  {
   "cell_type": "code",
   "execution_count": null,
   "metadata": {},
   "outputs": [
    {
     "ename": "TypeError",
     "evalue": "list indices must be integers or slices, not tuple",
     "output_type": "error",
     "traceback": [
      "\u001b[0;31m---------------------------------------------------------------------------\u001b[0m",
      "\u001b[0;31mTypeError\u001b[0m                                 Traceback (most recent call last)",
      "Cell \u001b[0;32mIn[73], line 1\u001b[0m\n\u001b[0;32m----> 1\u001b[0m plt\u001b[38;5;241m.\u001b[39mplot(\u001b[43my_pred\u001b[49m\u001b[43m[\u001b[49m\u001b[43m:\u001b[49m\u001b[43m,\u001b[49m\u001b[38;5;241;43m-\u001b[39;49m\u001b[38;5;241;43m1\u001b[39;49m\u001b[43m]\u001b[49m)\n\u001b[1;32m      2\u001b[0m \u001b[38;5;66;03m# plt.plot(Y_train)\u001b[39;00m\n\u001b[1;32m      3\u001b[0m plt\u001b[38;5;241m.\u001b[39mshow()\n",
      "\u001b[0;31mTypeError\u001b[0m: list indices must be integers or slices, not tuple"
     ]
    }
   ],
   "source": [
    "plt.plot(y_pred[:,-1])\n",
    "# plt.plot(Y_train)\n",
    "plt.show()"
   ]
  }
 ],
 "metadata": {
  "kernelspec": {
   "display_name": "Python 3",
   "language": "python",
   "name": "python3"
  },
  "language_info": {
   "codemirror_mode": {
    "name": "ipython",
    "version": 3
   },
   "file_extension": ".py",
   "mimetype": "text/x-python",
   "name": "python",
   "nbconvert_exporter": "python",
   "pygments_lexer": "ipython3",
   "version": "3.10.12"
  }
 },
 "nbformat": 4,
 "nbformat_minor": 2
}
