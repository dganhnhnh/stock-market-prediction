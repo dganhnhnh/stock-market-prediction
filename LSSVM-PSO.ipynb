{
 "cells": [
  {
   "cell_type": "code",
   "execution_count": 1,
   "metadata": {},
   "outputs": [],
   "source": [
    "from DataProcessing import Data"
   ]
  },
  {
   "cell_type": "markdown",
   "metadata": {},
   "source": [
    "# 1. Get Data"
   ]
  },
  {
   "cell_type": "markdown",
   "metadata": {},
   "source": [
    "## 1.1. Get data from folder"
   ]
  },
  {
   "cell_type": "code",
   "execution_count": 2,
   "metadata": {},
   "outputs": [
    {
     "name": "stdout",
     "output_type": "stream",
     "text": [
      "S&P 500: ['AAPL', 'ORCL', 'GOOGL', 'AMZN', 'BK', 'LIFE', 'T', 'XOM']\n",
      " VN: ['VHM', 'CTR', 'FPT', 'MBB']\n"
     ]
    },
    {
     "data": {
      "text/plain": [
       "['AAPL',\n",
       " 'ORCL',\n",
       " 'GOOGL',\n",
       " 'AMZN',\n",
       " 'BK',\n",
       " 'LIFE',\n",
       " 'T',\n",
       " 'XOM',\n",
       " 'VHM',\n",
       " 'CTR',\n",
       " 'FPT',\n",
       " 'MBB']"
      ]
     },
     "execution_count": 2,
     "metadata": {},
     "output_type": "execute_result"
    }
   ],
   "source": [
    "d = Data()\n",
    "d.get_index_names()"
   ]
  },
  {
   "cell_type": "code",
   "execution_count": 3,
   "metadata": {},
   "outputs": [],
   "source": [
    "chosen_index = 'AAPL'\n",
    "df = d.get_data(chosen_index).drop(['Date','Volume'],axis=1)"
   ]
  },
  {
   "cell_type": "code",
   "execution_count": 4,
   "metadata": {},
   "outputs": [],
   "source": [
    "X = df[df.columns[0:6]].values\n",
    "Y = df[df.columns[6]].values\n",
    "\n",
    "TRAIN_PERCENT = 0.7\n",
    "train_size = int(TRAIN_PERCENT*len(X))\n",
    "\n",
    "X_train = X[0:train_size]\n",
    "Y_train = Y[0:train_size]\n",
    "X_test = X[train_size:len(X)]\n",
    "Y_test = Y[train_size:len(Y)]"
   ]
  },
  {
   "cell_type": "code",
   "execution_count": 55,
   "metadata": {},
   "outputs": [],
   "source": [
    "from sklearn.preprocessing import StandardScaler\n",
    "scaler = StandardScaler()\n",
    "X_train_scaled = scaler.fit_transform(X_train)\n",
    "X_test_scaled = scaler.transform(X_test)"
   ]
  },
  {
   "cell_type": "markdown",
   "metadata": {},
   "source": [
    "# 2. Train model"
   ]
  },
  {
   "cell_type": "code",
   "execution_count": 5,
   "metadata": {},
   "outputs": [],
   "source": [
    "import numpy as np\n",
    "from sklearn.svm import SVR\n",
    "from sklearn.metrics import mean_squared_error"
   ]
  },
  {
   "cell_type": "code",
   "execution_count": 56,
   "metadata": {},
   "outputs": [],
   "source": [
    "class Individual:\n",
    "    def __init__(self,position = [0,0,0], velocity = [0,0,0], cognitive_coef=1, social_coef=1):\n",
    "        self.cognitive_coef = cognitive_coef\n",
    "        self.social_coef = social_coef\n",
    "        self.position = position\n",
    "        self.velocity = velocity\n",
    "        self.model:SVR = SVR(kernel='sigmoid',gamma=self.position[0],coef0=self.position[1],epsilon=self.position[2],C=150)\n",
    "        self.best_position = position\n",
    "        self.fitness = self.compute_fitness(self.model)\n",
    "\n",
    "    def compute_fitness(self,model:SVR):\n",
    "        model.fit(X_train_scaled,Y_train)\n",
    "        return -mean_squared_error(Y_train,model.predict(X_train_scaled))\n",
    "    \n",
    "    def update_indi_best(self, new_position):\n",
    "        new_model:SVR = SVR(kernel='sigmoid',gamma=new_position[0],coef0=new_position[1],epsilon=new_position[2])\n",
    "        new_model_fitness = self.compute_fitness(new_model)\n",
    "        if(new_model_fitness>=self.fitness):\n",
    "            self.best_position = new_position\n",
    "            self.model = new_model\n",
    "        return self.best_position\n",
    "    \n",
    "    def update_velocity(self, best_pos_in_pop):\n",
    "        for i in range(len(self.position)):\n",
    "            r = np.random.uniform(0,1,2)\n",
    "            self.velocity[i] = self.velocity[i] + self.cognitive_coef*r[0]*(self.best_position[i] - self.position[i]) + self.social_coef*r[1]*(best_pos_in_pop[i] - self.position[i])\n",
    "        return self.velocity\n",
    "    \n",
    "    def update_position(self):\n",
    "        new_pos = np.zeros(len(self.position))\n",
    "        for i in range(len(self.position)):\n",
    "            if(i==1):\n",
    "                new_pos[i] = self.velocity[i] + self.position[i]\n",
    "            else:\n",
    "                new_pos[i] = abs(self.velocity[i] + self.position[i])\n",
    "        self.update_indi_best(new_pos)\n",
    "        self.position = new_pos\n",
    "        return new_pos"
   ]
  },
  {
   "cell_type": "code",
   "execution_count": 14,
   "metadata": {},
   "outputs": [],
   "source": [
    "class Population:\n",
    "    def __init__(self, pop_size, cognitive_coef, social_coef):\n",
    "        self.pop_size = pop_size\n",
    "        gamma = np.random.uniform(0,0.01,pop_size)\n",
    "        coef0 = np.random.uniform(-0.1,0.1,pop_size)\n",
    "        epsilon = np.random.uniform(0,0.1,pop_size)\n",
    "        self.pop = []\n",
    "        for i in range(pop_size):\n",
    "            indi = Individual(position=[gamma[i],coef0[i],epsilon[i]],cognitive_coef=cognitive_coef, social_coef=social_coef)\n",
    "            self.pop.append(indi)\n",
    "        self.cognitive_coef = cognitive_coef\n",
    "        self.social_coef = social_coef\n",
    "\n",
    "    def new_Individual(self,individual:Individual)->Individual:\n",
    "        return Individual(individual.position, individual.velocity, individual.cognitive_coef, individual.social_coef)\n",
    "    \n",
    "    def get_best_individual(self)->Individual:\n",
    "        self.pop = sorted(self.pop,key=lambda x:x.fitness)\n",
    "        best_individual:Individual = self.new_Individual(self.pop[-1])\n",
    "        return best_individual\n",
    "\n",
    "    def update_population(self):\n",
    "        best_particle:Individual = self.get_best_individual()\n",
    "        for i in range(self.pop_size):\n",
    "            temp = self.new_Individual(self.pop[i])\n",
    "            temp.update_velocity(best_particle.position)\n",
    "            temp.update_position()\n",
    "            temp.compute_fitness(temp.model)\n",
    "            if(temp.fitness>self.pop[i].fitness):\n",
    "                self.pop[i] = temp\n",
    "            if(temp.fitness>best_particle.fitness):\n",
    "                best_particle = temp\n",
    "        \n",
    "        return"
   ]
  },
  {
   "cell_type": "markdown",
   "metadata": {},
   "source": [
    "## 2.1. Train"
   ]
  },
  {
   "cell_type": "code",
   "execution_count": 15,
   "metadata": {},
   "outputs": [],
   "source": [
    "population_size = 100\n",
    "cognitive_coef = 1\n",
    "social_coef = 1\n",
    "number_of_generation = 10"
   ]
  },
  {
   "cell_type": "code",
   "execution_count": 57,
   "metadata": {},
   "outputs": [
    {
     "name": "stdout",
     "output_type": "stream",
     "text": [
      "PSO: 0.0%\n",
      "PSO: 10.0%\n",
      "PSO: 20.0%\n",
      "PSO: 30.0%\n",
      "PSO: 40.0%\n",
      "PSO: 50.0%\n",
      "PSO: 60.0%\n",
      "PSO: 70.0%\n",
      "PSO: 80.0%\n",
      "PSO: 90.0%\n"
     ]
    }
   ],
   "source": [
    "population = Population(population_size,cognitive_coef,social_coef)\n",
    "fitness = []\n",
    "moving_avg_fitness = []\n",
    "EPSILON = 0.01\n",
    "\n",
    "for i in range(number_of_generation):\n",
    "    population.update_population()\n",
    "    best_individual = population.get_best_individual()\n",
    "    fitness.append(best_individual.fitness)\n",
    "    # if(i<100):\n",
    "    #     moving_avg_fitness.append(fitness[i])\n",
    "    # else:\n",
    "    #     moving_avg_fitness.append(np.mean(fitness[i-99:i+1]))\n",
    "    #     if(abs(moving_avg_fitness[i]-moving_avg_fitness[i-1])/moving_avg_fitness[i]<EPSILON):\n",
    "    #         break\n",
    "    percentage = i/number_of_generation*100\n",
    "    print(f'PSO: {percentage}%')\n",
    "        "
   ]
  },
  {
   "cell_type": "code",
   "execution_count": 58,
   "metadata": {},
   "outputs": [
    {
     "data": {
      "text/plain": [
       "-6.046087080163383"
      ]
     },
     "execution_count": 58,
     "metadata": {},
     "output_type": "execute_result"
    }
   ],
   "source": [
    "population.get_best_individual().fitness"
   ]
  },
  {
   "cell_type": "code",
   "execution_count": 59,
   "metadata": {},
   "outputs": [
    {
     "data": {
      "text/html": [
       "<style>#sk-container-id-13 {color: black;}#sk-container-id-13 pre{padding: 0;}#sk-container-id-13 div.sk-toggleable {background-color: white;}#sk-container-id-13 label.sk-toggleable__label {cursor: pointer;display: block;width: 100%;margin-bottom: 0;padding: 0.3em;box-sizing: border-box;text-align: center;}#sk-container-id-13 label.sk-toggleable__label-arrow:before {content: \"▸\";float: left;margin-right: 0.25em;color: #696969;}#sk-container-id-13 label.sk-toggleable__label-arrow:hover:before {color: black;}#sk-container-id-13 div.sk-estimator:hover label.sk-toggleable__label-arrow:before {color: black;}#sk-container-id-13 div.sk-toggleable__content {max-height: 0;max-width: 0;overflow: hidden;text-align: left;background-color: #f0f8ff;}#sk-container-id-13 div.sk-toggleable__content pre {margin: 0.2em;color: black;border-radius: 0.25em;background-color: #f0f8ff;}#sk-container-id-13 input.sk-toggleable__control:checked~div.sk-toggleable__content {max-height: 200px;max-width: 100%;overflow: auto;}#sk-container-id-13 input.sk-toggleable__control:checked~label.sk-toggleable__label-arrow:before {content: \"▾\";}#sk-container-id-13 div.sk-estimator input.sk-toggleable__control:checked~label.sk-toggleable__label {background-color: #d4ebff;}#sk-container-id-13 div.sk-label input.sk-toggleable__control:checked~label.sk-toggleable__label {background-color: #d4ebff;}#sk-container-id-13 input.sk-hidden--visually {border: 0;clip: rect(1px 1px 1px 1px);clip: rect(1px, 1px, 1px, 1px);height: 1px;margin: -1px;overflow: hidden;padding: 0;position: absolute;width: 1px;}#sk-container-id-13 div.sk-estimator {font-family: monospace;background-color: #f0f8ff;border: 1px dotted black;border-radius: 0.25em;box-sizing: border-box;margin-bottom: 0.5em;}#sk-container-id-13 div.sk-estimator:hover {background-color: #d4ebff;}#sk-container-id-13 div.sk-parallel-item::after {content: \"\";width: 100%;border-bottom: 1px solid gray;flex-grow: 1;}#sk-container-id-13 div.sk-label:hover label.sk-toggleable__label {background-color: #d4ebff;}#sk-container-id-13 div.sk-serial::before {content: \"\";position: absolute;border-left: 1px solid gray;box-sizing: border-box;top: 0;bottom: 0;left: 50%;z-index: 0;}#sk-container-id-13 div.sk-serial {display: flex;flex-direction: column;align-items: center;background-color: white;padding-right: 0.2em;padding-left: 0.2em;position: relative;}#sk-container-id-13 div.sk-item {position: relative;z-index: 1;}#sk-container-id-13 div.sk-parallel {display: flex;align-items: stretch;justify-content: center;background-color: white;position: relative;}#sk-container-id-13 div.sk-item::before, #sk-container-id-13 div.sk-parallel-item::before {content: \"\";position: absolute;border-left: 1px solid gray;box-sizing: border-box;top: 0;bottom: 0;left: 50%;z-index: -1;}#sk-container-id-13 div.sk-parallel-item {display: flex;flex-direction: column;z-index: 1;position: relative;background-color: white;}#sk-container-id-13 div.sk-parallel-item:first-child::after {align-self: flex-end;width: 50%;}#sk-container-id-13 div.sk-parallel-item:last-child::after {align-self: flex-start;width: 50%;}#sk-container-id-13 div.sk-parallel-item:only-child::after {width: 0;}#sk-container-id-13 div.sk-dashed-wrapped {border: 1px dashed gray;margin: 0 0.4em 0.5em 0.4em;box-sizing: border-box;padding-bottom: 0.4em;background-color: white;}#sk-container-id-13 div.sk-label label {font-family: monospace;font-weight: bold;display: inline-block;line-height: 1.2em;}#sk-container-id-13 div.sk-label-container {text-align: center;}#sk-container-id-13 div.sk-container {/* jupyter's `normalize.less` sets `[hidden] { display: none; }` but bootstrap.min.css set `[hidden] { display: none !important; }` so we also need the `!important` here to be able to override the default hidden behavior on the sphinx rendered scikit-learn.org. See: https://github.com/scikit-learn/scikit-learn/issues/21755 */display: inline-block !important;position: relative;}#sk-container-id-13 div.sk-text-repr-fallback {display: none;}</style><div id=\"sk-container-id-13\" class=\"sk-top-container\"><div class=\"sk-text-repr-fallback\"><pre>SVR(C=150, coef0=-0.03950597696773837, epsilon=0.01965253482741566,\n",
       "    gamma=0.009044612907240276, kernel=&#x27;sigmoid&#x27;)</pre><b>In a Jupyter environment, please rerun this cell to show the HTML representation or trust the notebook. <br />On GitHub, the HTML representation is unable to render, please try loading this page with nbviewer.org.</b></div><div class=\"sk-container\" hidden><div class=\"sk-item\"><div class=\"sk-estimator sk-toggleable\"><input class=\"sk-toggleable__control sk-hidden--visually\" id=\"sk-estimator-id-13\" type=\"checkbox\" checked><label for=\"sk-estimator-id-13\" class=\"sk-toggleable__label sk-toggleable__label-arrow\">SVR</label><div class=\"sk-toggleable__content\"><pre>SVR(C=150, coef0=-0.03950597696773837, epsilon=0.01965253482741566,\n",
       "    gamma=0.009044612907240276, kernel=&#x27;sigmoid&#x27;)</pre></div></div></div></div></div>"
      ],
      "text/plain": [
       "SVR(C=150, coef0=-0.03950597696773837, epsilon=0.01965253482741566,\n",
       "    gamma=0.009044612907240276, kernel='sigmoid')"
      ]
     },
     "execution_count": 59,
     "metadata": {},
     "output_type": "execute_result"
    }
   ],
   "source": [
    "model = population.get_best_individual().model\n",
    "model"
   ]
  },
  {
   "cell_type": "code",
   "execution_count": 60,
   "metadata": {},
   "outputs": [
    {
     "data": {
      "text/plain": [
       "[<matplotlib.lines.Line2D at 0x776b3fa24070>]"
      ]
     },
     "execution_count": 60,
     "metadata": {},
     "output_type": "execute_result"
    },
    {
     "data": {
      "image/png": "[encoded data removed]",
      "text/plain": [
       "<Figure size 640x480 with 1 Axes>"
      ]
     },
     "metadata": {},
     "output_type": "display_data"
    }
   ],
   "source": [
    "import matplotlib.pyplot as plt\n",
    "f = []\n",
    "for indi in population.pop:\n",
    "    f.append(indi.fitness)\n",
    "plt.plot(f)"
   ]
  },
  {
   "cell_type": "markdown",
   "metadata": {},
   "source": [
    "## 2.2. Test"
   ]
  },
  {
   "cell_type": "code",
   "execution_count": 62,
   "metadata": {},
   "outputs": [
    {
     "data": {
      "text/html": [
       "<style>#sk-container-id-14 {color: black;}#sk-container-id-14 pre{padding: 0;}#sk-container-id-14 div.sk-toggleable {background-color: white;}#sk-container-id-14 label.sk-toggleable__label {cursor: pointer;display: block;width: 100%;margin-bottom: 0;padding: 0.3em;box-sizing: border-box;text-align: center;}#sk-container-id-14 label.sk-toggleable__label-arrow:before {content: \"▸\";float: left;margin-right: 0.25em;color: #696969;}#sk-container-id-14 label.sk-toggleable__label-arrow:hover:before {color: black;}#sk-container-id-14 div.sk-estimator:hover label.sk-toggleable__label-arrow:before {color: black;}#sk-container-id-14 div.sk-toggleable__content {max-height: 0;max-width: 0;overflow: hidden;text-align: left;background-color: #f0f8ff;}#sk-container-id-14 div.sk-toggleable__content pre {margin: 0.2em;color: black;border-radius: 0.25em;background-color: #f0f8ff;}#sk-container-id-14 input.sk-toggleable__control:checked~div.sk-toggleable__content {max-height: 200px;max-width: 100%;overflow: auto;}#sk-container-id-14 input.sk-toggleable__control:checked~label.sk-toggleable__label-arrow:before {content: \"▾\";}#sk-container-id-14 div.sk-estimator input.sk-toggleable__control:checked~label.sk-toggleable__label {background-color: #d4ebff;}#sk-container-id-14 div.sk-label input.sk-toggleable__control:checked~label.sk-toggleable__label {background-color: #d4ebff;}#sk-container-id-14 input.sk-hidden--visually {border: 0;clip: rect(1px 1px 1px 1px);clip: rect(1px, 1px, 1px, 1px);height: 1px;margin: -1px;overflow: hidden;padding: 0;position: absolute;width: 1px;}#sk-container-id-14 div.sk-estimator {font-family: monospace;background-color: #f0f8ff;border: 1px dotted black;border-radius: 0.25em;box-sizing: border-box;margin-bottom: 0.5em;}#sk-container-id-14 div.sk-estimator:hover {background-color: #d4ebff;}#sk-container-id-14 div.sk-parallel-item::after {content: \"\";width: 100%;border-bottom: 1px solid gray;flex-grow: 1;}#sk-container-id-14 div.sk-label:hover label.sk-toggleable__label {background-color: #d4ebff;}#sk-container-id-14 div.sk-serial::before {content: \"\";position: absolute;border-left: 1px solid gray;box-sizing: border-box;top: 0;bottom: 0;left: 50%;z-index: 0;}#sk-container-id-14 div.sk-serial {display: flex;flex-direction: column;align-items: center;background-color: white;padding-right: 0.2em;padding-left: 0.2em;position: relative;}#sk-container-id-14 div.sk-item {position: relative;z-index: 1;}#sk-container-id-14 div.sk-parallel {display: flex;align-items: stretch;justify-content: center;background-color: white;position: relative;}#sk-container-id-14 div.sk-item::before, #sk-container-id-14 div.sk-parallel-item::before {content: \"\";position: absolute;border-left: 1px solid gray;box-sizing: border-box;top: 0;bottom: 0;left: 50%;z-index: -1;}#sk-container-id-14 div.sk-parallel-item {display: flex;flex-direction: column;z-index: 1;position: relative;background-color: white;}#sk-container-id-14 div.sk-parallel-item:first-child::after {align-self: flex-end;width: 50%;}#sk-container-id-14 div.sk-parallel-item:last-child::after {align-self: flex-start;width: 50%;}#sk-container-id-14 div.sk-parallel-item:only-child::after {width: 0;}#sk-container-id-14 div.sk-dashed-wrapped {border: 1px dashed gray;margin: 0 0.4em 0.5em 0.4em;box-sizing: border-box;padding-bottom: 0.4em;background-color: white;}#sk-container-id-14 div.sk-label label {font-family: monospace;font-weight: bold;display: inline-block;line-height: 1.2em;}#sk-container-id-14 div.sk-label-container {text-align: center;}#sk-container-id-14 div.sk-container {/* jupyter's `normalize.less` sets `[hidden] { display: none; }` but bootstrap.min.css set `[hidden] { display: none !important; }` so we also need the `!important` here to be able to override the default hidden behavior on the sphinx rendered scikit-learn.org. See: https://github.com/scikit-learn/scikit-learn/issues/21755 */display: inline-block !important;position: relative;}#sk-container-id-14 div.sk-text-repr-fallback {display: none;}</style><div id=\"sk-container-id-14\" class=\"sk-top-container\"><div class=\"sk-text-repr-fallback\"><pre>SVR(C=150, coef0=-0.03950597696773837, epsilon=0.01965253482741566,\n",
       "    gamma=0.009044612907240276, kernel=&#x27;sigmoid&#x27;)</pre><b>In a Jupyter environment, please rerun this cell to show the HTML representation or trust the notebook. <br />On GitHub, the HTML representation is unable to render, please try loading this page with nbviewer.org.</b></div><div class=\"sk-container\" hidden><div class=\"sk-item\"><div class=\"sk-estimator sk-toggleable\"><input class=\"sk-toggleable__control sk-hidden--visually\" id=\"sk-estimator-id-14\" type=\"checkbox\" checked><label for=\"sk-estimator-id-14\" class=\"sk-toggleable__label sk-toggleable__label-arrow\">SVR</label><div class=\"sk-toggleable__content\"><pre>SVR(C=150, coef0=-0.03950597696773837, epsilon=0.01965253482741566,\n",
       "    gamma=0.009044612907240276, kernel=&#x27;sigmoid&#x27;)</pre></div></div></div></div></div>"
      ],
      "text/plain": [
       "SVR(C=150, coef0=-0.03950597696773837, epsilon=0.01965253482741566,\n",
       "    gamma=0.009044612907240276, kernel='sigmoid')"
      ]
     },
     "execution_count": 62,
     "metadata": {},
     "output_type": "execute_result"
    }
   ],
   "source": [
    "model = population.get_best_individual().model\n",
    "model"
   ]
  },
  {
   "cell_type": "code",
   "execution_count": 63,
   "metadata": {},
   "outputs": [],
   "source": [
    "Y_pred = model.predict(X_test_scaled)"
   ]
  },
  {
   "cell_type": "code",
   "execution_count": 65,
   "metadata": {},
   "outputs": [
    {
     "data": {
      "image/png": "[encoded data removed]",
      "text/plain": [
       "<Figure size 640x480 with 1 Axes>"
      ]
     },
     "metadata": {},
     "output_type": "display_data"
    }
   ],
   "source": [
    "import matplotlib.pyplot as plt\n",
    "plt.plot(Y_pred,c='red',label = 'Prediction')\n",
    "plt.plot(Y_test,c='blue',label = 'True value')\n",
    "plt.legend(loc='upper right')\n",
    "plt.title(f'{chosen_index} - LSSVM-PSO')\n",
    "plt.show()"
   ]
  },
  {
   "cell_type": "code",
   "execution_count": 66,
   "metadata": {},
   "outputs": [
    {
     "data": {
      "text/plain": [
       "array([[-1.55911337,  0.58212821,  0.92319854, -1.55923348, -0.03368867,\n",
       "        -1.55496649],\n",
       "       [-1.54297729,  0.70151029,  0.88435979, -1.55453888,  0.43205954,\n",
       "        -1.54989953],\n",
       "       [-1.53525732,  0.66162882,  0.89102869, -1.54943997,  0.6773902 ,\n",
       "        -1.54603613],\n",
       "       [-1.53328393,  0.53199623,  0.77587496, -1.54475757,  0.72717975,\n",
       "        -1.54296234],\n",
       "       [-1.52568025,  0.49123873,  0.73197311, -1.53968476,  1.05480337,\n",
       "        -1.53901266]])"
      ]
     },
     "execution_count": 66,
     "metadata": {},
     "output_type": "execute_result"
    }
   ],
   "source": [
    "X_train_scaled[0:5]"
   ]
  },
  {
   "cell_type": "code",
   "execution_count": 67,
   "metadata": {},
   "outputs": [
    {
     "data": {
      "text/plain": [
       "array([[46.02663422, 67.26842912, 64.27090925, 45.23706993, 61.53847172,\n",
       "        44.63221053],\n",
       "       [46.69570541, 69.30064657, 63.76177347, 45.43155466, 75.74346645,\n",
       "        44.84232462],\n",
       "       [47.01580811, 68.62175228, 63.84919585, 45.64278845, 83.22588   ,\n",
       "        45.00253013],\n",
       "       [47.09763336, 66.41504243, 62.33964972, 45.83676778, 84.74442625,\n",
       "        45.12999231],\n",
       "       [47.41291428, 65.72123554, 61.76414195, 46.04692064, 94.7367177 ,\n",
       "        45.2937758 ]])"
      ]
     },
     "execution_count": 67,
     "metadata": {},
     "output_type": "execute_result"
    }
   ],
   "source": [
    "X_train[0:5]"
   ]
  }
 ],
 "metadata": {
  "kernelspec": {
   "display_name": "Python 3",
   "language": "python",
   "name": "python3"
  },
  "language_info": {
   "codemirror_mode": {
    "name": "ipython",
    "version": 3
   },
   "file_extension": ".py",
   "mimetype": "text/x-python",
   "name": "python",
   "nbconvert_exporter": "python",
   "pygments_lexer": "ipython3",
   "version": "3.10.12"
  }
 },
 "nbformat": 4,
 "nbformat_minor": 2
}
