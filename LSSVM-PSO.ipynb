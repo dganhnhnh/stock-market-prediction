{
 "cells": [
  {
   "cell_type": "code",
   "execution_count": 1,
   "metadata": {},
   "outputs": [],
   "source": [
    "from DataProcessing import Data"
   ]
  },
  {
   "cell_type": "markdown",
   "metadata": {},
   "source": [
    "# 1. Get Data"
   ]
  },
  {
   "cell_type": "markdown",
   "metadata": {},
   "source": [
    "## 1.1. Get data from folder"
   ]
  },
  {
   "cell_type": "code",
   "execution_count": 2,
   "metadata": {},
   "outputs": [
    {
     "name": "stdout",
     "output_type": "stream",
     "text": [
      "S&P 500: ['AAPL', 'ORCL', 'GOOGL', 'AMZN', 'BK', 'LIFE', 'T', 'XOM']\n",
      " VN: ['VHM', 'CTR', 'FPT', 'MBB']\n"
     ]
    },
    {
     "data": {
      "text/plain": [
       "['AAPL',\n",
       " 'ORCL',\n",
       " 'GOOGL',\n",
       " 'AMZN',\n",
       " 'BK',\n",
       " 'LIFE',\n",
       " 'T',\n",
       " 'XOM',\n",
       " 'VHM',\n",
       " 'CTR',\n",
       " 'FPT',\n",
       " 'MBB']"
      ]
     },
     "execution_count": 2,
     "metadata": {},
     "output_type": "execute_result"
    }
   ],
   "source": [
    "d = Data()\n",
    "d.get_index_names()"
   ]
  },
  {
   "cell_type": "code",
   "execution_count": 3,
   "metadata": {},
   "outputs": [],
   "source": [
    "chosen_index = 'AAPL'\n",
    "df = d.get_data(chosen_index).drop(['Date','Volume'],axis=1)"
   ]
  },
  {
   "cell_type": "code",
   "execution_count": 4,
   "metadata": {},
   "outputs": [],
   "source": [
    "X = df[df.columns[0:6]].values\n",
    "Y = df[df.columns[6]].values\n",
    "\n",
    "TRAIN_PERCENT = 0.7\n",
    "train_size = int(TRAIN_PERCENT*len(X))\n",
    "\n",
    "X_train = X[0:train_size]\n",
    "Y_train = Y[0:train_size]\n",
    "X_test = X[train_size:len(X)]\n",
    "Y_test = Y[train_size:len(Y)]"
   ]
  },
  {
   "cell_type": "markdown",
   "metadata": {},
   "source": [
    "# 2. Train model"
   ]
  },
  {
   "cell_type": "code",
   "execution_count": 5,
   "metadata": {},
   "outputs": [],
   "source": [
    "import numpy as np\n",
    "from sklearn.svm import SVR\n",
    "from sklearn.metrics import mean_squared_error"
   ]
  },
  {
   "cell_type": "code",
   "execution_count": 33,
   "metadata": {},
   "outputs": [],
   "source": [
    "class Individual:\n",
    "    def __init__(self,position = [0,0,0], velocity = [0,0,0], cognitive_coef=1, social_coef=1):\n",
    "        self.cognitive_coef = cognitive_coef\n",
    "        self.social_coef = social_coef\n",
    "        gamma = abs(np.random.normal())\n",
    "        coef0 = abs(np.random.normal())\n",
    "        epsilon = abs(np.random.normal())\n",
    "        self.position = [gamma,coef0,epsilon]\n",
    "        self.velocity = velocity\n",
    "        self.model:SVR = SVR(kernel='sigmoid',gamma=self.position[0],coef0=self.position[1],epsilon=self.position[2])\n",
    "        self.best_position = position\n",
    "        self.fitness = self.compute_fitness(self.model)\n",
    "\n",
    "    def compute_fitness(self,model:SVR):\n",
    "        model.fit(X_train,Y_train)\n",
    "        return -mean_squared_error(Y_train,model.predict(X_train))\n",
    "    \n",
    "    def update_indi_best(self, new_position):\n",
    "        new_model:SVR = SVR(kernel='sigmoid',gamma=new_position[0],coef0=new_position[1],epsilon=new_position[2])\n",
    "        new_model_fitness = self.compute_fitness(new_model)\n",
    "        if(new_model_fitness>=self.fitness):\n",
    "            self.best_position = new_position\n",
    "            self.model = new_model\n",
    "        return self.best_position\n",
    "    \n",
    "    def update_velocity(self, best_pos_in_pop):\n",
    "        for i in range(len(self.position)):\n",
    "            r = np.random.uniform(0,1,2)\n",
    "            self.velocity[i] = self.velocity[i] + self.cognitive_coef*r[0]*(self.best_position[i] - self.position[i]) + self.social_coef*r[1]*(best_pos_in_pop[i] - self.position[i])\n",
    "        return self.velocity\n",
    "    \n",
    "    def update_position(self):\n",
    "        new_pos = np.zeros(len(self.position))\n",
    "        for i in range(len(self.position)):\n",
    "            new_pos[i] = abs(self.velocity[i] + self.position[i])\n",
    "        self.update_indi_best(new_pos)\n",
    "        self.position = new_pos\n",
    "        return new_pos"
   ]
  },
  {
   "cell_type": "code",
   "execution_count": 26,
   "metadata": {},
   "outputs": [],
   "source": [
    "class Population:\n",
    "    def __init__(self,pop_size,cognitive_coef, social_coef):\n",
    "        self.pop_size = pop_size\n",
    "        self.pop = []\n",
    "        for i in range(pop_size):\n",
    "            indi = Individual(cognitive_coef=cognitive_coef, social_coef=social_coef)\n",
    "            self.pop.append(indi)\n",
    "        self.cognitive_coef = cognitive_coef\n",
    "        self.social_coef = social_coef\n",
    "\n",
    "    def new_Individual(self,individual:Individual)->Individual:\n",
    "        return Individual(individual.position, individual.velocity, individual.cognitive_coef, individual.social_coef)\n",
    "    \n",
    "    def get_best_individual(self):\n",
    "        self.pop = sorted(self.pop,key=lambda x:x.fitness)\n",
    "        best_individual:Individual = self.new_Individual(self.pop[-1])\n",
    "        return best_individual\n",
    "\n",
    "    def update_population(self):\n",
    "        best_particle:Individual = self.get_best_individual()\n",
    "        for i in range(self.pop_size):\n",
    "            temp = self.new_Individual(self.pop[i])\n",
    "            temp.update_velocity(best_particle.position)\n",
    "            temp.update_position()\n",
    "            temp.compute_fitness(temp.model)\n",
    "            if(temp.fitness>self.pop[i].fitness):\n",
    "                self.pop[i] = temp\n",
    "            if(temp.fitness>best_particle.fitness):\n",
    "                best_particle = temp\n",
    "        \n",
    "        return"
   ]
  },
  {
   "cell_type": "markdown",
   "metadata": {},
   "source": [
    "## 2.1. Train"
   ]
  },
  {
   "cell_type": "code",
   "execution_count": 35,
   "metadata": {},
   "outputs": [],
   "source": [
    "population_size = 200\n",
    "cognitive_coef = 1\n",
    "social_coef = 1\n",
    "number_of_generation = 10"
   ]
  },
  {
   "cell_type": "code",
   "execution_count": 36,
   "metadata": {},
   "outputs": [
    {
     "name": "stdout",
     "output_type": "stream",
     "text": [
      "PSO: 0.0%\n",
      "PSO: 10.0%\n",
      "PSO: 20.0%\n",
      "PSO: 30.0%\n",
      "PSO: 40.0%\n",
      "PSO: 50.0%\n",
      "PSO: 60.0%\n",
      "PSO: 70.0%\n",
      "PSO: 80.0%\n",
      "PSO: 90.0%\n"
     ]
    }
   ],
   "source": [
    "population = Population(population_size,cognitive_coef,social_coef)\n",
    "fitness = []\n",
    "moving_avg_fitness = []\n",
    "EPSILON = 0.01\n",
    "\n",
    "for i in range(number_of_generation):\n",
    "    population.update_population()\n",
    "    best_individual = population.get_best_individual()\n",
    "    fitness.append(best_individual.fitness)\n",
    "    # if(i<100):\n",
    "    #     moving_avg_fitness.append(fitness[i])\n",
    "    # else:\n",
    "    #     moving_avg_fitness.append(np.mean(fitness[i-99:i+1]))\n",
    "    #     if(abs(moving_avg_fitness[i]-moving_avg_fitness[i-1])/moving_avg_fitness[i]<EPSILON):\n",
    "    #         break\n",
    "    percentage = i/number_of_generation*100\n",
    "    print(f'PSO: {percentage}%')\n",
    "        "
   ]
  },
  {
   "cell_type": "markdown",
   "metadata": {},
   "source": [
    "## 2.2. Test"
   ]
  },
  {
   "cell_type": "code",
   "execution_count": 39,
   "metadata": {},
   "outputs": [
    {
     "data": {
      "text/plain": [
       "-1813.8857727907614"
      ]
     },
     "execution_count": 39,
     "metadata": {},
     "output_type": "execute_result"
    }
   ],
   "source": [
    "population.get_best_individual().fitness"
   ]
  },
  {
   "cell_type": "code",
   "execution_count": 29,
   "metadata": {},
   "outputs": [
    {
     "name": "stdout",
     "output_type": "stream",
     "text": [
      "12/12 [==============================] - 0s 2ms/step\n"
     ]
    }
   ],
   "source": [
    "Y_pred = rnn_model.predict(X_test)"
   ]
  },
  {
   "cell_type": "code",
   "execution_count": 24,
   "metadata": {},
   "outputs": [
    {
     "data": {
      "text/plain": [
       "(374, 1, 1)"
      ]
     },
     "execution_count": 24,
     "metadata": {},
     "output_type": "execute_result"
    }
   ],
   "source": [
    "Y_pred.shape"
   ]
  },
  {
   "cell_type": "code",
   "execution_count": 33,
   "metadata": {},
   "outputs": [],
   "source": [
    "Y_pred = Y_pred.reshape(374)"
   ]
  },
  {
   "cell_type": "code",
   "execution_count": 36,
   "metadata": {},
   "outputs": [
    {
     "data": {
      "image/png": "[encoded data removed]",
      "text/plain": [
       "<Figure size 640x480 with 1 Axes>"
      ]
     },
     "metadata": {},
     "output_type": "display_data"
    }
   ],
   "source": [
    "import matplotlib.pyplot as plt\n",
    "plt.plot(Y_pred,c='red',label = 'Prediction')\n",
    "plt.plot(Y_test,c='blue',label = 'True value')\n",
    "plt.legend(loc='upper right')\n",
    "plt.title(f'{chosen_index} - LSTM')\n",
    "plt.show()"
   ]
  }
 ],
 "metadata": {
  "kernelspec": {
   "display_name": "Python 3",
   "language": "python",
   "name": "python3"
  },
  "language_info": {
   "codemirror_mode": {
    "name": "ipython",
    "version": 3
   },
   "file_extension": ".py",
   "mimetype": "text/x-python",
   "name": "python",
   "nbconvert_exporter": "python",
   "pygments_lexer": "ipython3",
   "version": "3.10.12"
  }
 },
 "nbformat": 4,
 "nbformat_minor": 2
}
