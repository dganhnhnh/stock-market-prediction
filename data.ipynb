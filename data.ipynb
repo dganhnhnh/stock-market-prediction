{
 "cells": [
  {
   "cell_type": "code",
   "execution_count": 18,
   "metadata": {},
   "outputs": [],
   "source": [
    "import yfinance as yf\n",
    "import datetime"
   ]
  },
  {
   "cell_type": "code",
   "execution_count": 19,
   "metadata": {},
   "outputs": [],
   "source": [
    "PERIOD=\"5m\""
   ]
  },
  {
   "cell_type": "code",
   "execution_count": 20,
   "metadata": {},
   "outputs": [
    {
     "name": "stdout",
     "output_type": "stream",
     "text": [
      "         Date       Open        High        Low       Close    Volume  \\\n",
      "0  2024-03-11  403.76001  405.679993  401.26001  404.519989  16093600   \n",
      "\n",
      "   Dividends  Stock Splits  \n",
      "0        0.0           0.0  \n"
     ]
    }
   ],
   "source": [
    "msft = yf.Ticker(\"MSFT\")\n",
    "hist = msft.history(period=PERIOD)\n",
    "# remove date from index\n",
    "hist.reset_index(inplace=True)\n",
    "# datetime to date\n",
    "hist['Date'] = hist['Date'].dt.date\n",
    "hist.to_csv('msft.csv')\n",
    "print(hist.tail())"
   ]
  },
  {
   "cell_type": "code",
   "execution_count": 21,
   "metadata": {},
   "outputs": [
    {
     "name": "stdout",
     "output_type": "stream",
     "text": [
      "                                Open        High        Low       Close  \\\n",
      "Date                                                                      \n",
      "2024-03-11 00:00:00-04:00  403.76001  405.679993  401.26001  404.519989   \n",
      "\n",
      "                             Volume  Dividends  Stock Splits  \n",
      "Date                                                          \n",
      "2024-03-11 00:00:00-04:00  16093600        0.0           0.0  \n"
     ]
    }
   ],
   "source": [
    "msft = yf.Ticker(\"MSFT\")\n",
    "hist = msft.history(period=PERIOD)\n",
    "print(hist.tail())\n",
    "hist.to_csv('msft.csv')"
   ]
  }
 ],
 "metadata": {
  "kernelspec": {
   "display_name": "venv",
   "language": "python",
   "name": "python3"
  },
  "language_info": {
   "codemirror_mode": {
    "name": "ipython",
    "version": 3
   },
   "file_extension": ".py",
   "mimetype": "text/x-python",
   "name": "python",
   "nbconvert_exporter": "python",
   "pygments_lexer": "ipython3",
   "version": "3.11.3"
  }
 },
 "nbformat": 4,
 "nbformat_minor": 2
}
