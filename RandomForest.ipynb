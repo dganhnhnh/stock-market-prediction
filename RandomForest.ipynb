{
 "cells": [
  {
   "cell_type": "code",
   "execution_count": 1,
   "metadata": {},
   "outputs": [],
   "source": [
    "import numpy as np\n",
    "import pandas as pd\n",
    "from DataProcessing import Data\n",
    "import matplotlib.pyplot as plt\n",
    "import seaborn as sns                       #visualisation\n",
    "sns.set_theme(color_codes=True)"
   ]
  },
  {
   "cell_type": "markdown",
   "metadata": {},
   "source": [
    "# 1. Get Data "
   ]
  },
  {
   "cell_type": "markdown",
   "metadata": {},
   "source": [
    "## 1.1. Get Data from folder"
   ]
  },
  {
   "cell_type": "code",
   "execution_count": 2,
   "metadata": {},
   "outputs": [
    {
     "name": "stdout",
     "output_type": "stream",
     "text": [
      "S&P 500: ['AAPL', 'ORCL', 'GOOGL', 'AMZN', 'BK', 'LIFE', 'T', 'XOM']\n",
      " VN: ['VHM', 'CTR', 'FPT', 'MBB']\n"
     ]
    },
    {
     "data": {
      "text/plain": [
       "['AAPL',\n",
       " 'ORCL',\n",
       " 'GOOGL',\n",
       " 'AMZN',\n",
       " 'BK',\n",
       " 'LIFE',\n",
       " 'T',\n",
       " 'XOM',\n",
       " 'VHM',\n",
       " 'CTR',\n",
       " 'FPT',\n",
       " 'MBB']"
      ]
     },
     "execution_count": 2,
     "metadata": {},
     "output_type": "execute_result"
    }
   ],
   "source": [
    "d = Data()\n",
    "d.get_index_names()"
   ]
  },
  {
   "cell_type": "code",
   "execution_count": 3,
   "metadata": {},
   "outputs": [],
   "source": [
    "chosen_index = 'GOOGL'"
   ]
  },
  {
   "cell_type": "code",
   "execution_count": 4,
   "metadata": {},
   "outputs": [
    {
     "name": "stdout",
     "output_type": "stream",
     "text": [
      "Processing GOOGL.csv\n",
      "Saved GOOGL data at data/processed/GOOGL.csv\n"
     ]
    }
   ],
   "source": [
    "d.preprocess(chosen_index)"
   ]
  },
  {
   "cell_type": "code",
   "execution_count": 5,
   "metadata": {},
   "outputs": [],
   "source": [
    "df = d.get_data(chosen_index)"
   ]
  },
  {
   "cell_type": "code",
   "execution_count": 6,
   "metadata": {},
   "outputs": [
    {
     "data": {
      "text/plain": [
       "Index(['Date', 'Open', 'High', 'Low', 'Close', 'Volume', 'RSI', 'MFI', 'EMA',\n",
       "       'SO', 'MACD', 'Next Day Price'],\n",
       "      dtype='object')"
      ]
     },
     "execution_count": 6,
     "metadata": {},
     "output_type": "execute_result"
    }
   ],
   "source": [
    "df.columns"
   ]
  },
  {
   "cell_type": "markdown",
   "metadata": {},
   "source": [
    "# 2. Train model"
   ]
  },
  {
   "cell_type": "code",
   "execution_count": 7,
   "metadata": {},
   "outputs": [],
   "source": [
    "from sklearn.ensemble import RandomForestRegressor\n",
    "from sklearn.model_selection import  train_test_split"
   ]
  },
  {
   "cell_type": "code",
   "execution_count": 8,
   "metadata": {},
   "outputs": [],
   "source": [
    "X = df[df.columns[1:10]].values\n",
    "Y = df[df.columns[10]].values"
   ]
  },
  {
   "cell_type": "code",
   "execution_count": 9,
   "metadata": {},
   "outputs": [
    {
     "data": {
      "text/plain": [
       "Index(['Open', 'High', 'Low', 'Close', 'Volume', 'RSI', 'MFI', 'EMA', 'SO'], dtype='object')"
      ]
     },
     "execution_count": 9,
     "metadata": {},
     "output_type": "execute_result"
    }
   ],
   "source": [
    "df.columns[1:10]"
   ]
  },
  {
   "cell_type": "code",
   "execution_count": 10,
   "metadata": {},
   "outputs": [],
   "source": [
    "# plt.plot(df['RSI'],color='pink',label='RSI')\n",
    "# plt.plot(Y,color='green',label='Close Price')\n",
    "# plt.plot(df['EMA'],color='blue',label='EMA')\n",
    "# # legend\n",
    "# plt.legend(loc='best')\n",
    "# plt.title(f'{chosen_index}')\n",
    "# plt.show()"
   ]
  },
  {
   "cell_type": "markdown",
   "metadata": {},
   "source": [
    "## 2.1. Split data"
   ]
  },
  {
   "cell_type": "markdown",
   "metadata": {},
   "source": [
    "### 2.1.2. Unchronologically"
   ]
  },
  {
   "cell_type": "code",
   "execution_count": 11,
   "metadata": {},
   "outputs": [],
   "source": [
    "X_train,X_test,Y_train,Y_test = train_test_split(X,Y,test_size=0.3,random_state=37)"
   ]
  },
  {
   "cell_type": "markdown",
   "metadata": {},
   "source": [
    "### 2.1.2. Chronologically"
   ]
  },
  {
   "cell_type": "code",
   "execution_count": 12,
   "metadata": {},
   "outputs": [],
   "source": [
    "TRAIN_PERCENT = 0.8\n",
    "train_size = int(TRAIN_PERCENT*len(X))\n",
    "\n",
    "X_train = X[0:train_size]\n",
    "Y_train = Y[0:train_size]\n",
    "X_test = X[train_size:len(X)]\n",
    "Y_test = Y[train_size:len(Y)]"
   ]
  },
  {
   "cell_type": "markdown",
   "metadata": {},
   "source": [
    "## 2.2. Train model"
   ]
  },
  {
   "cell_type": "code",
   "execution_count": 13,
   "metadata": {},
   "outputs": [
    {
     "name": "stdout",
     "output_type": "stream",
     "text": [
      "X_train: (996, 9), Y_train: (996,), X_test: (249, 9), Y_test: (249,)\n",
      "Fitting 3 folds for each of 108 candidates, totalling 324 fits\n",
      "Best parameters found:  {'max_depth': 6, 'max_features': 'log2', 'min_samples_leaf': 2, 'min_samples_split': 2, 'n_estimators': 100}\n"
     ]
    }
   ],
   "source": [
    "from helper import prepare_data\n",
    "from sklearn.model_selection import GridSearchCV\n",
    "\n",
    "def train_model(index):\n",
    "    X_train, Y_train, X_test, Y_test = prepare_data(index)\n",
    "    model = RandomForestRegressor()\n",
    "\n",
    "    param_grid = {\n",
    "        'n_estimators': [100, 200],\n",
    "        'max_depth': [4, 5, 6],\n",
    "        'min_samples_split': [2, 5, 10],\n",
    "        'min_samples_leaf': [1, 2, 4],\n",
    "        'max_features': ['sqrt', 'log2']\n",
    "    }\n",
    "\n",
    "    model = GridSearchCV(model, param_grid, cv = 3, n_jobs = -1, verbose = 2)\n",
    "    model.fit(X_train,Y_train)\n",
    "    print(\"Best parameters found: \", model.best_params_)\n",
    "\n",
    "    model.score(X_test,Y_test)\n",
    "    return model\n",
    "\n",
    "model = train_model(chosen_index)"
   ]
  },
  {
   "cell_type": "markdown",
   "metadata": {},
   "source": [
    "# Evaluation"
   ]
  },
  {
   "cell_type": "code",
   "execution_count": 14,
   "metadata": {},
   "outputs": [
    {
     "name": "stdout",
     "output_type": "stream",
     "text": [
      "X_train: (996, 9), Y_train: (996,), X_test: (249, 9), Y_test: (249,)\n",
      "Calculating loss for model GridSearchCV(cv=3, estimator=RandomForestRegressor(), n_jobs=-1,\n",
      "             param_grid={'max_depth': [4, 5, 6],\n",
      "                         'max_features': ['sqrt', 'log2'],\n",
      "                         'min_samples_leaf': [1, 2, 4],\n",
      "                         'min_samples_split': [2, 5, 10],\n",
      "                         'n_estimators': [100, 200]},\n",
      "             verbose=2)...\n",
      "Mean Squared Error: 7.056124963549652\n",
      "R-squared: 0.963129466344214\n",
      "Root Mean Squared Error: 2.656336756427854\n",
      "Mean Absolute Percentage Error: 0.017337297314288343\n",
      "Mean Absolute Error: 2.1199267484810163\n"
     ]
    },
    {
     "data": {
      "text/plain": [
       "(7.056124963549652,\n",
       " 0.963129466344214,\n",
       " 2.656336756427854,\n",
       " 0.017337297314288343,\n",
       " 2.1199267484810163)"
      ]
     },
     "execution_count": 14,
     "metadata": {},
     "output_type": "execute_result"
    }
   ],
   "source": [
    "from helper import calculate_loss\n",
    "X_train, Y_train, X_test, Y_test = prepare_data(chosen_index)\n",
    "calculate_loss(model, X_test, Y_test)\n"
   ]
  },
  {
   "cell_type": "markdown",
   "metadata": {},
   "source": [
    "## Plot Result"
   ]
  },
  {
   "cell_type": "code",
   "execution_count": 15,
   "metadata": {},
   "outputs": [],
   "source": [
    "Y_predict = model.predict(X_test)"
   ]
  },
  {
   "cell_type": "code",
   "execution_count": 16,
   "metadata": {},
   "outputs": [
    {
     "data": {
      "image/png": "[encoded data removed]",
      "text/plain": [
       "<Figure size 640x480 with 1 Axes>"
      ]
     },
     "metadata": {},
     "output_type": "display_data"
    }
   ],
   "source": [
    "plt.plot(Y_predict,color='red',label='Prediction')\n",
    "plt.plot(Y_test,color='blue',label='True value')\n",
    "plt.legend(loc='upper right')\n",
    "plt.title(f'{chosen_index} - Random Forest Regressor')\n",
    "plt.show()"
   ]
  },
  {
   "cell_type": "markdown",
   "metadata": {},
   "source": [
    "## Save results"
   ]
  },
  {
   "cell_type": "code",
   "execution_count": 17,
   "metadata": {},
   "outputs": [
    {
     "name": "stdout",
     "output_type": "stream",
     "text": [
      "X_train: (996, 9), Y_train: (996,), X_test: (249, 9), Y_test: (249,)\n",
      "X_train: (996, 9), Y_train: (996,), X_test: (249, 9), Y_test: (249,)\n",
      "Fitting 3 folds for each of 108 candidates, totalling 324 fits\n"
     ]
    },
    {
     "name": "stdout",
     "output_type": "stream",
     "text": [
      "Best parameters found:  {'max_depth': 6, 'max_features': 'sqrt', 'min_samples_leaf': 1, 'min_samples_split': 5, 'n_estimators': 100}\n",
      "Calculating loss for model GridSearchCV(cv=3, estimator=RandomForestRegressor(), n_jobs=-1,\n",
      "             param_grid={'max_depth': [4, 5, 6],\n",
      "                         'max_features': ['sqrt', 'log2'],\n",
      "                         'min_samples_leaf': [1, 2, 4],\n",
      "                         'min_samples_split': [2, 5, 10],\n",
      "                         'n_estimators': [100, 200]},\n",
      "             verbose=2)...\n",
      "Mean Squared Error: 232.99252360618553\n",
      "R-squared: -0.8617662928786418\n",
      "Root Mean Squared Error: 15.264092623087215\n",
      "Mean Absolute Percentage Error: 0.07171925670415906\n",
      "Mean Absolute Error: 13.20826592777162\n",
      "X_train: (996, 9), Y_train: (996,), X_test: (249, 9), Y_test: (249,)\n",
      "X_train: (996, 9), Y_train: (996,), X_test: (249, 9), Y_test: (249,)\n",
      "Fitting 3 folds for each of 108 candidates, totalling 324 fits\n",
      "Best parameters found:  {'max_depth': 6, 'max_features': 'sqrt', 'min_samples_leaf': 1, 'min_samples_split': 2, 'n_estimators': 200}\n",
      "Calculating loss for model GridSearchCV(cv=3, estimator=RandomForestRegressor(), n_jobs=-1,\n",
      "             param_grid={'max_depth': [4, 5, 6],\n",
      "                         'max_features': ['sqrt', 'log2'],\n",
      "                         'min_samples_leaf': [1, 2, 4],\n",
      "                         'min_samples_split': [2, 5, 10],\n",
      "                         'n_estimators': [100, 200]},\n",
      "             verbose=2)...\n",
      "Mean Squared Error: 351.1710500675707\n",
      "R-squared: -3.0278586806723036\n",
      "Root Mean Squared Error: 18.739558427763733\n",
      "Mean Absolute Percentage Error: 0.1503561698885229\n",
      "Mean Absolute Error: 16.70911706245295\n",
      "X_train: (996, 9), Y_train: (996,), X_test: (249, 9), Y_test: (249,)\n",
      "X_train: (996, 9), Y_train: (996,), X_test: (249, 9), Y_test: (249,)\n",
      "Fitting 3 folds for each of 108 candidates, totalling 324 fits\n",
      "Best parameters found:  {'max_depth': 6, 'max_features': 'log2', 'min_samples_leaf': 4, 'min_samples_split': 2, 'n_estimators': 100}\n",
      "Calculating loss for model GridSearchCV(cv=3, estimator=RandomForestRegressor(), n_jobs=-1,\n",
      "             param_grid={'max_depth': [4, 5, 6],\n",
      "                         'max_features': ['sqrt', 'log2'],\n",
      "                         'min_samples_leaf': [1, 2, 4],\n",
      "                         'min_samples_split': [2, 5, 10],\n",
      "                         'n_estimators': [100, 200]},\n",
      "             verbose=2)...\n",
      "Mean Squared Error: 7.74764595201055\n",
      "R-squared: 0.95951604566212\n",
      "Root Mean Squared Error: 2.7834593498038642\n",
      "Mean Absolute Percentage Error: 0.018277023547261816\n",
      "Mean Absolute Error: 2.2351296503685494\n",
      "X_train: (996, 9), Y_train: (996,), X_test: (249, 9), Y_test: (249,)\n",
      "X_train: (996, 9), Y_train: (996,), X_test: (249, 9), Y_test: (249,)\n",
      "Fitting 3 folds for each of 108 candidates, totalling 324 fits\n",
      "Best parameters found:  {'max_depth': 6, 'max_features': 'log2', 'min_samples_leaf': 1, 'min_samples_split': 10, 'n_estimators': 100}\n",
      "Calculating loss for model GridSearchCV(cv=3, estimator=RandomForestRegressor(), n_jobs=-1,\n",
      "             param_grid={'max_depth': [4, 5, 6],\n",
      "                         'max_features': ['sqrt', 'log2'],\n",
      "                         'min_samples_leaf': [1, 2, 4],\n",
      "                         'min_samples_split': [2, 5, 10],\n",
      "                         'n_estimators': [100, 200]},\n",
      "             verbose=2)...\n",
      "Mean Squared Error: 6.6105361798575695\n",
      "R-squared: 0.98289312466077\n",
      "Root Mean Squared Error: 2.5710962992189867\n",
      "Mean Absolute Percentage Error: 0.015825367328833922\n",
      "Mean Absolute Error: 2.0839687361487966\n",
      "X_train: (996, 9), Y_train: (996,), X_test: (249, 9), Y_test: (249,)\n",
      "X_train: (996, 9), Y_train: (996,), X_test: (249, 9), Y_test: (249,)\n",
      "Fitting 3 folds for each of 108 candidates, totalling 324 fits\n",
      "Best parameters found:  {'max_depth': 6, 'max_features': 'log2', 'min_samples_leaf': 2, 'min_samples_split': 5, 'n_estimators': 200}\n",
      "Calculating loss for model GridSearchCV(cv=3, estimator=RandomForestRegressor(), n_jobs=-1,\n",
      "             param_grid={'max_depth': [4, 5, 6],\n",
      "                         'max_features': ['sqrt', 'log2'],\n",
      "                         'min_samples_leaf': [1, 2, 4],\n",
      "                         'min_samples_split': [2, 5, 10],\n",
      "                         'n_estimators': [100, 200]},\n",
      "             verbose=2)...\n",
      "Mean Squared Error: 0.5949731267402226\n",
      "R-squared: 0.9696169317096843\n",
      "Root Mean Squared Error: 0.7713450114833327\n",
      "Mean Absolute Percentage Error: 0.012123556621721931\n",
      "Mean Absolute Error: 0.5466091900254366\n",
      "X_train: (996, 9), Y_train: (996,), X_test: (249, 9), Y_test: (249,)\n",
      "X_train: (996, 9), Y_train: (996,), X_test: (249, 9), Y_test: (249,)\n",
      "Fitting 3 folds for each of 108 candidates, totalling 324 fits\n",
      "Best parameters found:  {'max_depth': 6, 'max_features': 'log2', 'min_samples_leaf': 1, 'min_samples_split': 10, 'n_estimators': 100}\n",
      "Calculating loss for model GridSearchCV(cv=3, estimator=RandomForestRegressor(), n_jobs=-1,\n",
      "             param_grid={'max_depth': [4, 5, 6],\n",
      "                         'max_features': ['sqrt', 'log2'],\n",
      "                         'min_samples_leaf': [1, 2, 4],\n",
      "                         'min_samples_split': [2, 5, 10],\n",
      "                         'n_estimators': [100, 200]},\n",
      "             verbose=2)...\n",
      "Mean Squared Error: 0.3198807257677997\n",
      "R-squared: -1.6032409203211846\n",
      "Root Mean Squared Error: 0.565579990600622\n",
      "Mean Absolute Percentage Error: 0.3097313569071067\n",
      "Mean Absolute Error: 0.4591536255576565\n",
      "X_train: (996, 9), Y_train: (996,), X_test: (249, 9), Y_test: (249,)\n",
      "X_train: (996, 9), Y_train: (996,), X_test: (249, 9), Y_test: (249,)\n",
      "Fitting 3 folds for each of 108 candidates, totalling 324 fits\n",
      "Best parameters found:  {'max_depth': 6, 'max_features': 'log2', 'min_samples_leaf': 4, 'min_samples_split': 2, 'n_estimators': 200}\n",
      "Calculating loss for model GridSearchCV(cv=3, estimator=RandomForestRegressor(), n_jobs=-1,\n",
      "             param_grid={'max_depth': [4, 5, 6],\n",
      "                         'max_features': ['sqrt', 'log2'],\n",
      "                         'min_samples_leaf': [1, 2, 4],\n",
      "                         'min_samples_split': [2, 5, 10],\n",
      "                         'n_estimators': [100, 200]},\n",
      "             verbose=2)...\n",
      "Mean Squared Error: 0.24494307073414137\n",
      "R-squared: 0.8579954956622519\n",
      "Root Mean Squared Error: 0.4949172362467702\n",
      "Mean Absolute Percentage Error: 0.02670249046636667\n",
      "Mean Absolute Error: 0.40028119831638775\n",
      "X_train: (996, 9), Y_train: (996,), X_test: (249, 9), Y_test: (249,)\n",
      "X_train: (996, 9), Y_train: (996,), X_test: (249, 9), Y_test: (249,)\n",
      "Fitting 3 folds for each of 108 candidates, totalling 324 fits\n",
      "Best parameters found:  {'max_depth': 6, 'max_features': 'sqrt', 'min_samples_leaf': 1, 'min_samples_split': 2, 'n_estimators': 200}\n",
      "Calculating loss for model GridSearchCV(cv=3, estimator=RandomForestRegressor(), n_jobs=-1,\n",
      "             param_grid={'max_depth': [4, 5, 6],\n",
      "                         'max_features': ['sqrt', 'log2'],\n",
      "                         'min_samples_leaf': [1, 2, 4],\n",
      "                         'min_samples_split': [2, 5, 10],\n",
      "                         'n_estimators': [100, 200]},\n",
      "             verbose=2)...\n",
      "Mean Squared Error: 8.600299390593838\n",
      "R-squared: 0.3842627132231121\n",
      "Root Mean Squared Error: 2.932626704951354\n",
      "Mean Absolute Percentage Error: 0.018939516422764525\n",
      "Mean Absolute Error: 2.000523199736748\n"
     ]
    }
   ],
   "source": [
    "import time\n",
    "from helper import calculate_loss, prepare_data\n",
    "\n",
    "mae = []\n",
    "mse = []\n",
    "r2 = []\n",
    "rmse = []\n",
    "mape = []\n",
    "avg_runtime = 0\n",
    "\n",
    "list_tickers = d.get_sp500_tickers()\n",
    "# track run time\n",
    "\n",
    "for ticker in list_tickers:\n",
    "    start = time.time()\n",
    "    X_train, Y_train, X_test, Y_test = prepare_data(ticker)\n",
    "\n",
    "    # call model\n",
    "    model = train_model(ticker)\n",
    "\n",
    "    # predictions = model.predict(X_test)\n",
    "    mse_, r2_, rmse_, mape_, mae_ = calculate_loss(model, X_test, Y_test)\n",
    "    mae.append(mae_)\n",
    "    mse.append(mse_)\n",
    "    r2.append(r2_)\n",
    "    rmse.append(rmse_)\n",
    "    mape.append(mape_)\n",
    "\n",
    "    end = time.time()\n",
    "    avg_runtime += (end-start)\n",
    "\n",
    "mae = np.mean(list(mae))\n",
    "mse = np.mean(list(mse))\n",
    "r2 = np.mean(list(r2))\n",
    "rmse = np.mean(list(rmse))\n",
    "mape = np.mean(list(mape))\n",
    "avg_runtime = avg_runtime/len(list_tickers)\n",
    "\n",
    "with open('output/evaluation.csv', 'a') as f:\n",
    "    f.write(f'Random Forest,{mae},{mse},{r2},{rmse},{mape},{avg_runtime}\\n')"
   ]
  }
 ],
 "metadata": {
  "kernelspec": {
   "display_name": "Python 3",
   "language": "python",
   "name": "python3"
  },
  "language_info": {
   "codemirror_mode": {
    "name": "ipython",
    "version": 3
   },
   "file_extension": ".py",
   "mimetype": "text/x-python",
   "name": "python",
   "nbconvert_exporter": "python",
   "pygments_lexer": "ipython3",
   "version": "3.10.11"
  }
 },
 "nbformat": 4,
 "nbformat_minor": 2
}
