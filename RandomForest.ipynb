{
 "cells": [
  {
   "cell_type": "code",
   "execution_count": 113,
   "metadata": {},
   "outputs": [],
   "source": [
    "import numpy as np\n",
    "import pandas as pd\n",
    "from DataProcessing import Data"
   ]
  },
  {
   "cell_type": "markdown",
   "metadata": {},
   "source": [
    "# 1. Get Data "
   ]
  },
  {
   "cell_type": "markdown",
   "metadata": {},
   "source": [
    "## 1.1. Get Data from folder"
   ]
  },
  {
   "cell_type": "code",
   "execution_count": 114,
   "metadata": {},
   "outputs": [
    {
     "name": "stdout",
     "output_type": "stream",
     "text": [
      "S&P 500: ['AAPL', 'ORCL', 'GOOGL', 'AMZN', 'BK', 'LIFE', 'T', 'XOM']\n",
      " VN: ['VHM', 'CTR', 'FPT', 'MBB']\n"
     ]
    },
    {
     "data": {
      "text/plain": [
       "['AAPL',\n",
       " 'ORCL',\n",
       " 'GOOGL',\n",
       " 'AMZN',\n",
       " 'BK',\n",
       " 'LIFE',\n",
       " 'T',\n",
       " 'XOM',\n",
       " 'VHM',\n",
       " 'CTR',\n",
       " 'FPT',\n",
       " 'MBB']"
      ]
     },
     "execution_count": 114,
     "metadata": {},
     "output_type": "execute_result"
    }
   ],
   "source": [
    "d = Data()\n",
    "d.get_index_names()"
   ]
  },
  {
   "cell_type": "code",
   "execution_count": 115,
   "metadata": {},
   "outputs": [],
   "source": [
    "chosen_index = 'VHM'"
   ]
  },
  {
   "cell_type": "code",
   "execution_count": 116,
   "metadata": {},
   "outputs": [
    {
     "name": "stdout",
     "output_type": "stream",
     "text": [
      "Processing VHM.csv\n"
     ]
    },
    {
     "name": "stdout",
     "output_type": "stream",
     "text": [
      "Saved VHM data at data/processed/VHM.csv\n"
     ]
    }
   ],
   "source": [
    "d.preprocess(chosen_index)"
   ]
  },
  {
   "cell_type": "code",
   "execution_count": 117,
   "metadata": {},
   "outputs": [],
   "source": [
    "df = d.get_data(chosen_index)"
   ]
  },
  {
   "cell_type": "code",
   "execution_count": 118,
   "metadata": {},
   "outputs": [
    {
     "data": {
      "text/plain": [
       "<bound method NDFrame.head of            Date    Close   Volume        RSI        MFI           EMA  \\\n",
       "0    2019-04-01  92400.0   334480  85.102948  46.916858  91671.458559   \n",
       "1    2019-04-02  92200.0   359690  60.686970  38.602377  91741.930752   \n",
       "2    2019-04-03  92000.0   281350  55.712418  34.159414  91776.339985   \n",
       "3    2019-04-04  92000.0   489550  51.750921  45.601086  91806.161320   \n",
       "4    2019-04-05  92600.0   454260  48.898215  42.104667  91912.006477   \n",
       "..          ...      ...      ...        ...        ...           ...   \n",
       "723  2022-02-23  79400.0  2850000  46.858287  37.328201  79900.499755   \n",
       "724  2022-02-24  78600.0  5284300  45.414589  36.375513  79727.099787   \n",
       "725  2022-02-25  78300.0  2693300  46.900771  34.511452  79536.819816   \n",
       "726  2022-02-28  77500.0  2837300  46.144075  25.960529  79265.243840   \n",
       "727  2022-03-01  78000.0  2459200  45.032803  31.291963  79096.544662   \n",
       "\n",
       "            SO          MACD  Next Day Price  \n",
       "0    57.647059  92340.391242         92200.0  \n",
       "1    61.038961  92241.421077         92000.0  \n",
       "2    58.441558  92136.502044         92000.0  \n",
       "3    58.441558  92061.888438         92600.0  \n",
       "4    66.233766  92067.878202         94600.0  \n",
       "..         ...           ...             ...  \n",
       "723  22.033898   -806.313181         78600.0  \n",
       "724  21.739130   -734.099253         78300.0  \n",
       "725  17.391304   -653.938925         77500.0  \n",
       "726   5.797101   -596.617205         78000.0  \n",
       "727  13.043478   -551.205543         77500.0  \n",
       "\n",
       "[728 rows x 9 columns]>"
      ]
     },
     "execution_count": 118,
     "metadata": {},
     "output_type": "execute_result"
    }
   ],
   "source": [
    "df.head"
   ]
  },
  {
   "cell_type": "code",
   "execution_count": 119,
   "metadata": {},
   "outputs": [
    {
     "data": {
      "text/plain": [
       "Index(['Date', 'Close', 'Volume', 'RSI', 'MFI', 'EMA', 'SO', 'MACD',\n",
       "       'Next Day Price'],\n",
       "      dtype='object')"
      ]
     },
     "execution_count": 119,
     "metadata": {},
     "output_type": "execute_result"
    }
   ],
   "source": [
    "df.columns"
   ]
  },
  {
   "cell_type": "markdown",
   "metadata": {},
   "source": [
    "# 2. Train model"
   ]
  },
  {
   "cell_type": "code",
   "execution_count": 120,
   "metadata": {},
   "outputs": [],
   "source": [
    "from sklearn.ensemble import RandomForestRegressor\n",
    "from sklearn.model_selection import  train_test_split"
   ]
  },
  {
   "cell_type": "code",
   "execution_count": 121,
   "metadata": {},
   "outputs": [],
   "source": [
    "X = df[df.columns[1:8]].values\n",
    "Y = df[df.columns[8]].values"
   ]
  },
  {
   "cell_type": "markdown",
   "metadata": {},
   "source": [
    "## 2.1. Split data"
   ]
  },
  {
   "cell_type": "markdown",
   "metadata": {},
   "source": [
    "### 2.1.2. Unchronologically"
   ]
  },
  {
   "cell_type": "code",
   "execution_count": 122,
   "metadata": {},
   "outputs": [],
   "source": [
    "X_train,X_test,Y_train,Y_test = train_test_split(X,Y,test_size=0.3,random_state=37)"
   ]
  },
  {
   "cell_type": "markdown",
   "metadata": {},
   "source": [
    "### 2.1.2. Chronologically"
   ]
  },
  {
   "cell_type": "code",
   "execution_count": 123,
   "metadata": {},
   "outputs": [],
   "source": [
    "TRAIN_PERCENT = 0.8\n",
    "train_size = int(TRAIN_PERCENT*len(X))\n",
    "\n",
    "X_train = X[0:train_size]\n",
    "Y_train = Y[0:train_size]\n",
    "X_test = X[train_size:len(X)]\n",
    "Y_test = Y[train_size:len(Y)]"
   ]
  },
  {
   "cell_type": "markdown",
   "metadata": {},
   "source": [
    "## 2.2. Train model"
   ]
  },
  {
   "cell_type": "code",
   "execution_count": 124,
   "metadata": {},
   "outputs": [
    {
     "data": {
      "text/plain": [
       "0.940120893874966"
      ]
     },
     "execution_count": 124,
     "metadata": {},
     "output_type": "execute_result"
    }
   ],
   "source": [
    "model = RandomForestRegressor(n_estimators=100, random_state=0, oob_score=True)\n",
    "model.fit(X_train,Y_train)\n",
    "model.score(X_test,Y_test)"
   ]
  },
  {
   "cell_type": "markdown",
   "metadata": {},
   "source": [
    "# Evaluation"
   ]
  },
  {
   "cell_type": "code",
   "execution_count": 125,
   "metadata": {},
   "outputs": [
    {
     "name": "stdout",
     "output_type": "stream",
     "text": [
      "Out-of-Bag Score: 0.9775684498745391\n",
      "R-squared: 0.940120893874966\n",
      "Root Mean Squared Error: 2827.8411430196556\n",
      "Mean Absolute Percentage Error: 0.01615861025268708\n"
     ]
    }
   ],
   "source": [
    "from sklearn.metrics import mean_squared_error, r2_score, mean_absolute_percentage_error, root_mean_squared_error\n",
    "\n",
    "oob_score = model.oob_score_\n",
    "print(f'Out-of-Bag Score: {oob_score}')\n",
    "\n",
    "predictions = model.predict(X_test)\n",
    "\n",
    "mse = mean_squared_error(Y_test, predictions)\n",
    "# print(f'Mean Squared Error: {mse}')\n",
    "\n",
    "r2 = r2_score(Y_test, predictions)\n",
    "print(f'R-squared: {r2}')\n",
    "\n",
    "rmse = root_mean_squared_error(Y_test, predictions)\n",
    "print(f'Root Mean Squared Error: {rmse}')\n",
    "\n",
    "mape = mean_absolute_percentage_error(Y_test, predictions)\n",
    "print(f'Mean Absolute Percentage Error: {mape}')\n"
   ]
  },
  {
   "cell_type": "markdown",
   "metadata": {},
   "source": [
    "## Plot Result"
   ]
  },
  {
   "cell_type": "code",
   "execution_count": 126,
   "metadata": {},
   "outputs": [],
   "source": [
    "import matplotlib.pyplot as plt"
   ]
  },
  {
   "cell_type": "code",
   "execution_count": 127,
   "metadata": {},
   "outputs": [],
   "source": [
    "Y_predict = model.predict(X_test)"
   ]
  },
  {
   "cell_type": "code",
   "execution_count": 128,
   "metadata": {},
   "outputs": [
    {
     "data": {
      "image/png": "[encoded data removed]",
      "text/plain": [
       "<Figure size 640x480 with 1 Axes>"
      ]
     },
     "metadata": {},
     "output_type": "display_data"
    }
   ],
   "source": [
    "plt.plot(Y_predict,color='red',label='Prediction')\n",
    "plt.plot(Y_test,color='blue',label='True value')\n",
    "plt.legend(loc='upper right')\n",
    "plt.title(f'{chosen_index} - Random Forest Regressor')\n",
    "plt.show()"
   ]
  }
 ],
 "metadata": {
  "kernelspec": {
   "display_name": "Python 3",
   "language": "python",
   "name": "python3"
  },
  "language_info": {
   "codemirror_mode": {
    "name": "ipython",
    "version": 3
   },
   "file_extension": ".py",
   "mimetype": "text/x-python",
   "name": "python",
   "nbconvert_exporter": "python",
   "pygments_lexer": "ipython3",
   "version": "3.10.11"
  }
 },
 "nbformat": 4,
 "nbformat_minor": 2
}
