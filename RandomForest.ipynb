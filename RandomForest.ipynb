{
 "cells": [
  {
   "cell_type": "code",
   "execution_count": 20,
   "metadata": {},
   "outputs": [],
   "source": [
    "import numpy as np\n",
    "import pandas as pd\n",
    "from DataProcessing import Data\n",
    "import matplotlib.pyplot as plt\n",
    "import seaborn as sns                       #visualisation\n",
    "sns.set_theme(color_codes=True)"
   ]
  },
  {
   "cell_type": "markdown",
   "metadata": {},
   "source": [
    "# 1. Get Data "
   ]
  },
  {
   "cell_type": "markdown",
   "metadata": {},
   "source": [
    "## 1.1. Get Data from folder"
   ]
  },
  {
   "cell_type": "code",
   "execution_count": 21,
   "metadata": {},
   "outputs": [
    {
     "name": "stdout",
     "output_type": "stream",
     "text": [
      "S&P 500: ['AAPL', 'ORCL', 'GOOGL', 'AMZN', 'BK', 'LIFE', 'T', 'XOM']\n",
      " VN: ['VHM', 'CTR', 'FPT', 'MBB']\n"
     ]
    },
    {
     "data": {
      "text/plain": [
       "['AAPL',\n",
       " 'ORCL',\n",
       " 'GOOGL',\n",
       " 'AMZN',\n",
       " 'BK',\n",
       " 'LIFE',\n",
       " 'T',\n",
       " 'XOM',\n",
       " 'VHM',\n",
       " 'CTR',\n",
       " 'FPT',\n",
       " 'MBB']"
      ]
     },
     "execution_count": 21,
     "metadata": {},
     "output_type": "execute_result"
    }
   ],
   "source": [
    "d = Data()\n",
    "d.get_index_names()"
   ]
  },
  {
   "cell_type": "code",
   "execution_count": 22,
   "metadata": {},
   "outputs": [],
   "source": [
    "chosen_index = 'GOOGL'"
   ]
  },
  {
   "cell_type": "code",
   "execution_count": 23,
   "metadata": {},
   "outputs": [
    {
     "name": "stdout",
     "output_type": "stream",
     "text": [
      "Processing GOOGL.csv\n",
      "Saved GOOGL data at data/processed/GOOGL.csv\n"
     ]
    }
   ],
   "source": [
    "d.preprocess(chosen_index)"
   ]
  },
  {
   "cell_type": "code",
   "execution_count": 24,
   "metadata": {},
   "outputs": [],
   "source": [
    "df = d.get_data(chosen_index)"
   ]
  },
  {
   "cell_type": "code",
   "execution_count": 25,
   "metadata": {},
   "outputs": [
    {
     "data": {
      "text/plain": [
       "Index(['Date', 'High', 'Low', 'Close', 'Volume', 'RSI', 'MFI', 'EMA', 'SO',\n",
       "       'MACD', 'Next Day Price'],\n",
       "      dtype='object')"
      ]
     },
     "execution_count": 25,
     "metadata": {},
     "output_type": "execute_result"
    }
   ],
   "source": [
    "df.columns"
   ]
  },
  {
   "cell_type": "markdown",
   "metadata": {},
   "source": [
    "# 2. Train model"
   ]
  },
  {
   "cell_type": "code",
   "execution_count": 26,
   "metadata": {},
   "outputs": [],
   "source": [
    "from sklearn.ensemble import RandomForestRegressor\n",
    "from sklearn.model_selection import  train_test_split"
   ]
  },
  {
   "cell_type": "code",
   "execution_count": 27,
   "metadata": {},
   "outputs": [],
   "source": [
    "X = df[df.columns[1:10]].values\n",
    "Y = df[df.columns[10]].values"
   ]
  },
  {
   "cell_type": "code",
   "execution_count": 28,
   "metadata": {},
   "outputs": [
    {
     "data": {
      "text/plain": [
       "Index(['High', 'Low', 'Close', 'Volume', 'RSI', 'MFI', 'EMA', 'SO', 'MACD'], dtype='object')"
      ]
     },
     "execution_count": 28,
     "metadata": {},
     "output_type": "execute_result"
    }
   ],
   "source": [
    "df.columns[1:10]"
   ]
  },
  {
   "cell_type": "code",
   "execution_count": 29,
   "metadata": {},
   "outputs": [],
   "source": [
    "# plt.plot(df['RSI'],color='pink',label='RSI')\n",
    "# plt.plot(Y,color='green',label='Close Price')\n",
    "# plt.plot(df['EMA'],color='blue',label='EMA')\n",
    "# # legend\n",
    "# plt.legend(loc='best')\n",
    "# plt.title(f'{chosen_index}')\n",
    "# plt.show()"
   ]
  },
  {
   "cell_type": "markdown",
   "metadata": {},
   "source": [
    "## 2.1. Split data"
   ]
  },
  {
   "cell_type": "markdown",
   "metadata": {},
   "source": [
    "### 2.1.2. Unchronologically"
   ]
  },
  {
   "cell_type": "code",
   "execution_count": 30,
   "metadata": {},
   "outputs": [],
   "source": [
    "X_train,X_test,Y_train,Y_test = train_test_split(X,Y,test_size=0.3,random_state=37)"
   ]
  },
  {
   "cell_type": "markdown",
   "metadata": {},
   "source": [
    "### 2.1.2. Chronologically"
   ]
  },
  {
   "cell_type": "code",
   "execution_count": 31,
   "metadata": {},
   "outputs": [],
   "source": [
    "TRAIN_PERCENT = 0.8\n",
    "train_size = int(TRAIN_PERCENT*len(X))\n",
    "\n",
    "X_train = X[0:train_size]\n",
    "Y_train = Y[0:train_size]\n",
    "X_test = X[train_size:len(X)]\n",
    "Y_test = Y[train_size:len(Y)]"
   ]
  },
  {
   "cell_type": "markdown",
   "metadata": {},
   "source": [
    "## 2.2. Train model"
   ]
  },
  {
   "cell_type": "code",
   "execution_count": 32,
   "metadata": {},
   "outputs": [
    {
     "name": "stdout",
     "output_type": "stream",
     "text": [
      "X_train: (996, 9), Y_train: (996,), X_test: (249, 9), Y_test: (249,)\n"
     ]
    }
   ],
   "source": [
    "from helper import prepare_data\n",
    "\n",
    "\n",
    "def train_model(index):\n",
    "    X_train, Y_train, X_test, Y_test = prepare_data(index)\n",
    "    model = RandomForestRegressor(n_estimators=100, random_state=0, oob_score=True)\n",
    "    model.fit(X_train,Y_train)\n",
    "    model.score(X_test,Y_test)\n",
    "\n",
    "    return model\n",
    "\n",
    "model = train_model(chosen_index)"
   ]
  },
  {
   "cell_type": "markdown",
   "metadata": {},
   "source": [
    "# Evaluation"
   ]
  },
  {
   "cell_type": "code",
   "execution_count": 33,
   "metadata": {},
   "outputs": [
    {
     "name": "stdout",
     "output_type": "stream",
     "text": [
      "X_train: (996, 9), Y_train: (996,), X_test: (249, 9), Y_test: (249,)\n",
      "Out-of-Bag Score: 0.9947838907618552\n",
      "R-squared: 0.9564337221905517\n",
      "Root Mean Squared Error: 2.6214853261497377\n",
      "Mean Absolute Percentage Error: 0.015510925352735759\n",
      "Mean Absolute Error: 1.9691401065688543\n"
     ]
    },
    {
     "data": {
      "text/plain": [
       "(6.872185315218396,\n",
       " 0.9564337221905517,\n",
       " 2.6214853261497377,\n",
       " 0.015510925352735759,\n",
       " 1.9691401065688543)"
      ]
     },
     "execution_count": 33,
     "metadata": {},
     "output_type": "execute_result"
    }
   ],
   "source": [
    "from helper import calculate_loss\n",
    "X_train, Y_train, X_test, Y_test = prepare_data(chosen_index)\n",
    "calculate_loss(model, X_test, Y_test)\n"
   ]
  },
  {
   "cell_type": "markdown",
   "metadata": {},
   "source": [
    "## Plot Result"
   ]
  },
  {
   "cell_type": "code",
   "execution_count": 34,
   "metadata": {},
   "outputs": [],
   "source": [
    "Y_predict = model.predict(X_test)"
   ]
  },
  {
   "cell_type": "code",
   "execution_count": 35,
   "metadata": {},
   "outputs": [
    {
     "data": {
      "image/png": "[encoded data removed]",
      "text/plain": [
       "<Figure size 640x480 with 1 Axes>"
      ]
     },
     "metadata": {},
     "output_type": "display_data"
    }
   ],
   "source": [
    "plt.plot(Y_predict,color='red',label='Prediction')\n",
    "plt.plot(Y_test,color='blue',label='True value')\n",
    "plt.legend(loc='upper right')\n",
    "plt.title(f'{chosen_index} - Random Forest Regressor')\n",
    "plt.show()"
   ]
  },
  {
   "cell_type": "markdown",
   "metadata": {},
   "source": [
    "## Save results"
   ]
  },
  {
   "cell_type": "code",
   "execution_count": 39,
   "metadata": {},
   "outputs": [
    {
     "name": "stdout",
     "output_type": "stream",
     "text": [
      "X_train: (996, 9), Y_train: (996,), X_test: (249, 9), Y_test: (249,)\n",
      "X_train: (996, 9), Y_train: (996,), X_test: (249, 9), Y_test: (249,)\n",
      "Out-of-Bag Score: 0.9957085322069584\n",
      "R-squared: -0.21724832273845185\n",
      "Root Mean Squared Error: 11.340231127850629\n",
      "Mean Absolute Percentage Error: 0.047237416272569846\n",
      "Mean Absolute Error: 8.837604247556632\n",
      "X_train: (996, 9), Y_train: (996,), X_test: (249, 9), Y_test: (249,)\n",
      "X_train: (996, 9), Y_train: (996,), X_test: (249, 9), Y_test: (249,)\n",
      "Out-of-Bag Score: 0.9913897779025137\n",
      "R-squared: -1.9648943946157726\n",
      "Root Mean Squared Error: 15.8055453656493\n",
      "Mean Absolute Percentage Error: 0.11984319532318775\n",
      "Mean Absolute Error: 13.556468377783595\n",
      "X_train: (996, 9), Y_train: (996,), X_test: (249, 9), Y_test: (249,)\n",
      "X_train: (996, 9), Y_train: (996,), X_test: (249, 9), Y_test: (249,)\n",
      "Out-of-Bag Score: 0.9947838907618552\n",
      "R-squared: 0.9564337221905517\n",
      "Root Mean Squared Error: 2.6214853261497377\n",
      "Mean Absolute Percentage Error: 0.015510925352735759\n",
      "Mean Absolute Error: 1.9691401065688543\n",
      "X_train: (317, 9), Y_train: (317,), X_test: (80, 9), Y_test: (80,)\n",
      "X_train: (317, 9), Y_train: (317,), X_test: (80, 9), Y_test: (80,)\n",
      "Out-of-Bag Score: 0.9781611420244443\n",
      "R-squared: -8.036751951025412\n",
      "Root Mean Squared Error: 20.10844375794876\n",
      "Mean Absolute Percentage Error: 0.115258405281745\n",
      "Mean Absolute Error: 18.60212692451477\n",
      "X_train: (996, 9), Y_train: (996,), X_test: (249, 9), Y_test: (249,)\n",
      "X_train: (996, 9), Y_train: (996,), X_test: (249, 9), Y_test: (249,)\n",
      "Out-of-Bag Score: 0.9950051270041412\n",
      "R-squared: 0.9780870381818324\n",
      "Root Mean Squared Error: 0.6550634999445742\n",
      "Mean Absolute Percentage Error: 0.010250585697137294\n",
      "Mean Absolute Error: 0.4685460408512045\n",
      "X_train: (996, 9), Y_train: (996,), X_test: (249, 9), Y_test: (249,)\n",
      "X_train: (996, 9), Y_train: (996,), X_test: (249, 9), Y_test: (249,)\n",
      "Out-of-Bag Score: 0.994088099346251\n",
      "R-squared: -1.1449495745121117\n",
      "Root Mean Squared Error: 0.5133876281241189\n",
      "Mean Absolute Percentage Error: 0.2745268683306477\n",
      "Mean Absolute Error: 0.4002946484471234\n",
      "X_train: (996, 9), Y_train: (996,), X_test: (249, 9), Y_test: (249,)\n",
      "X_train: (996, 9), Y_train: (996,), X_test: (249, 9), Y_test: (249,)\n",
      "Out-of-Bag Score: 0.9862473287614457\n",
      "R-squared: 0.9424521815944897\n",
      "Root Mean Squared Error: 0.31506194601701265\n",
      "Mean Absolute Percentage Error: 0.017046399745824694\n",
      "Mean Absolute Error: 0.25791962147556824\n",
      "X_train: (996, 9), Y_train: (996,), X_test: (249, 9), Y_test: (249,)\n",
      "X_train: (996, 9), Y_train: (996,), X_test: (249, 9), Y_test: (249,)\n",
      "Out-of-Bag Score: 0.998958379922825\n",
      "R-squared: 0.7583732919056942\n",
      "Root Mean Squared Error: 1.837094626019679\n",
      "Mean Absolute Percentage Error: 0.013581634328337977\n",
      "Mean Absolute Error: 1.441193719259617\n"
     ]
    }
   ],
   "source": [
    "import time\n",
    "from helper import calculate_loss, prepare_data\n",
    "\n",
    "mae = []\n",
    "mse = []\n",
    "r2 = []\n",
    "rmse = []\n",
    "mape = []\n",
    "avg_runtime = 0\n",
    "\n",
    "list_tickers = d.get_sp500_tickers()\n",
    "# track run time\n",
    "\n",
    "for ticker in list_tickers:\n",
    "    start = time.time()\n",
    "    X_train, Y_train, X_test, Y_test = prepare_data(ticker)\n",
    "\n",
    "    # call model\n",
    "    model = train_model(ticker)\n",
    "\n",
    "    # predictions = model.predict(X_test)\n",
    "    mse_, r2_, rmse_, mape_, mae_ = calculate_loss(model, X_test, Y_test)\n",
    "    mae.append(mae_)\n",
    "    mse.append(mse_)\n",
    "    r2.append(r2_)\n",
    "    rmse.append(rmse_)\n",
    "    mape.append(mape_)\n",
    "\n",
    "    end = time.time()\n",
    "    avg_runtime += (end-start)\n",
    "\n",
    "mae = np.mean(list(mae))\n",
    "mse = np.mean(list(mse))\n",
    "r2 = np.mean(list(r2))\n",
    "rmse = np.mean(list(rmse))\n",
    "mape = np.mean(list(mape))\n",
    "avg_runtime = avg_runtime/len(list_tickers)\n",
    "\n",
    "with open('output/evaluation.csv', 'a') as f:\n",
    "    f.write(f'Random Forest,{mae},{mse},{r2},{rmse},{mape},{avg_runtime}\\n')"
   ]
  }
 ],
 "metadata": {
  "kernelspec": {
   "display_name": "Python 3",
   "language": "python",
   "name": "python3"
  },
  "language_info": {
   "codemirror_mode": {
    "name": "ipython",
    "version": 3
   },
   "file_extension": ".py",
   "mimetype": "text/x-python",
   "name": "python",
   "nbconvert_exporter": "python",
   "pygments_lexer": "ipython3",
   "version": "3.10.11"
  }
 },
 "nbformat": 4,
 "nbformat_minor": 2
}
